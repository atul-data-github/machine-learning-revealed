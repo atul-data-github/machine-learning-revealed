{
 "cells": [
  {
   "cell_type": "markdown",
   "metadata": {},
   "source": [
    "https://analyticsjobs.in/careers/top-30-companies-in-india-to-work-for-in-data-science-and-machine-learning/"
   ]
  },
  {
   "cell_type": "code",
   "execution_count": 36,
   "metadata": {},
   "outputs": [],
   "source": [
    "import pandas as pd\n",
    "import numpy as np\n",
    "from scipy import stats\n",
    "from sklearn.model_selection import train_test_split\n",
    "import matplotlib.pyplot as plt\n",
    "import warnings\n",
    "\n",
    "#filtering reshape warnings deprecation\n",
    "warnings.filterwarnings('ignore')"
   ]
  },
  {
   "cell_type": "code",
   "execution_count": 37,
   "metadata": {},
   "outputs": [
    {
     "name": "stdout",
     "output_type": "stream",
     "text": [
      "<class 'pandas.core.frame.DataFrame'>\n",
      "RangeIndex: 1599 entries, 0 to 1598\n",
      "Data columns (total 12 columns):\n",
      "fixed acidity           1599 non-null float64\n",
      "volatile acidity        1599 non-null float64\n",
      "citric acid             1599 non-null float64\n",
      "residual sugar          1599 non-null float64\n",
      "chlorides               1599 non-null float64\n",
      "free sulfur dioxide     1599 non-null float64\n",
      "total sulfur dioxide    1599 non-null float64\n",
      "density                 1599 non-null float64\n",
      "pH                      1599 non-null float64\n",
      "sulphates               1599 non-null float64\n",
      "alcohol                 1599 non-null float64\n",
      "quality                 1599 non-null int64\n",
      "dtypes: float64(11), int64(1)\n",
      "memory usage: 150.0 KB\n"
     ]
    }
   ],
   "source": [
    "#Importing Data\n",
    "data = pd.read_csv(\"https://archive.ics.uci.edu/ml/machine-learning-databases/wine-quality/winequality-red.csv\",sep=';')\n",
    "#all numeric\n",
    "data.info()\n",
    "#Converting to float\n",
    "data=data.astype(float)\n",
    "#No missing values\n",
    "data.describe()\n",
    "data.dtypes\n",
    "m = data.shape[0]\n",
    "n = data.shape[1]\n",
    "data_x = data.iloc[:,0:(n-1)]\n",
    "data_y = data.iloc[:,-1]"
   ]
  },
  {
   "cell_type": "code",
   "execution_count": 38,
   "metadata": {},
   "outputs": [
    {
     "data": {
      "text/html": [
       "<div>\n",
       "<style scoped>\n",
       "    .dataframe tbody tr th:only-of-type {\n",
       "        vertical-align: middle;\n",
       "    }\n",
       "\n",
       "    .dataframe tbody tr th {\n",
       "        vertical-align: top;\n",
       "    }\n",
       "\n",
       "    .dataframe thead th {\n",
       "        text-align: right;\n",
       "    }\n",
       "</style>\n",
       "<table border=\"1\" class=\"dataframe\">\n",
       "  <thead>\n",
       "    <tr style=\"text-align: right;\">\n",
       "      <th></th>\n",
       "      <th>fixed acidity</th>\n",
       "      <th>volatile acidity</th>\n",
       "      <th>citric acid</th>\n",
       "      <th>residual sugar</th>\n",
       "      <th>chlorides</th>\n",
       "      <th>free sulfur dioxide</th>\n",
       "      <th>total sulfur dioxide</th>\n",
       "      <th>density</th>\n",
       "      <th>pH</th>\n",
       "      <th>sulphates</th>\n",
       "      <th>alcohol</th>\n",
       "    </tr>\n",
       "  </thead>\n",
       "  <tbody>\n",
       "    <tr>\n",
       "      <th>fixed acidity</th>\n",
       "      <td>1.000000</td>\n",
       "      <td>-0.256131</td>\n",
       "      <td>0.671703</td>\n",
       "      <td>0.114777</td>\n",
       "      <td>0.093705</td>\n",
       "      <td>-0.153794</td>\n",
       "      <td>-0.113181</td>\n",
       "      <td>0.668047</td>\n",
       "      <td>-0.682978</td>\n",
       "      <td>0.183006</td>\n",
       "      <td>-0.061668</td>\n",
       "    </tr>\n",
       "    <tr>\n",
       "      <th>volatile acidity</th>\n",
       "      <td>-0.256131</td>\n",
       "      <td>1.000000</td>\n",
       "      <td>-0.552496</td>\n",
       "      <td>0.001918</td>\n",
       "      <td>0.061298</td>\n",
       "      <td>-0.010504</td>\n",
       "      <td>0.076470</td>\n",
       "      <td>0.022026</td>\n",
       "      <td>0.234937</td>\n",
       "      <td>-0.260987</td>\n",
       "      <td>-0.202288</td>\n",
       "    </tr>\n",
       "    <tr>\n",
       "      <th>citric acid</th>\n",
       "      <td>0.671703</td>\n",
       "      <td>-0.552496</td>\n",
       "      <td>1.000000</td>\n",
       "      <td>0.143577</td>\n",
       "      <td>0.203823</td>\n",
       "      <td>-0.060978</td>\n",
       "      <td>0.035533</td>\n",
       "      <td>0.364947</td>\n",
       "      <td>-0.541904</td>\n",
       "      <td>0.312770</td>\n",
       "      <td>0.109903</td>\n",
       "    </tr>\n",
       "    <tr>\n",
       "      <th>residual sugar</th>\n",
       "      <td>0.114777</td>\n",
       "      <td>0.001918</td>\n",
       "      <td>0.143577</td>\n",
       "      <td>1.000000</td>\n",
       "      <td>0.055610</td>\n",
       "      <td>0.187049</td>\n",
       "      <td>0.203028</td>\n",
       "      <td>0.355283</td>\n",
       "      <td>-0.085652</td>\n",
       "      <td>0.005527</td>\n",
       "      <td>0.042075</td>\n",
       "    </tr>\n",
       "    <tr>\n",
       "      <th>chlorides</th>\n",
       "      <td>0.093705</td>\n",
       "      <td>0.061298</td>\n",
       "      <td>0.203823</td>\n",
       "      <td>0.055610</td>\n",
       "      <td>1.000000</td>\n",
       "      <td>0.005562</td>\n",
       "      <td>0.047400</td>\n",
       "      <td>0.200632</td>\n",
       "      <td>-0.265026</td>\n",
       "      <td>0.371260</td>\n",
       "      <td>-0.221141</td>\n",
       "    </tr>\n",
       "    <tr>\n",
       "      <th>free sulfur dioxide</th>\n",
       "      <td>-0.153794</td>\n",
       "      <td>-0.010504</td>\n",
       "      <td>-0.060978</td>\n",
       "      <td>0.187049</td>\n",
       "      <td>0.005562</td>\n",
       "      <td>1.000000</td>\n",
       "      <td>0.667666</td>\n",
       "      <td>-0.021946</td>\n",
       "      <td>0.070377</td>\n",
       "      <td>0.051658</td>\n",
       "      <td>-0.069408</td>\n",
       "    </tr>\n",
       "    <tr>\n",
       "      <th>total sulfur dioxide</th>\n",
       "      <td>-0.113181</td>\n",
       "      <td>0.076470</td>\n",
       "      <td>0.035533</td>\n",
       "      <td>0.203028</td>\n",
       "      <td>0.047400</td>\n",
       "      <td>0.667666</td>\n",
       "      <td>1.000000</td>\n",
       "      <td>0.071269</td>\n",
       "      <td>-0.066495</td>\n",
       "      <td>0.042947</td>\n",
       "      <td>-0.205654</td>\n",
       "    </tr>\n",
       "    <tr>\n",
       "      <th>density</th>\n",
       "      <td>0.668047</td>\n",
       "      <td>0.022026</td>\n",
       "      <td>0.364947</td>\n",
       "      <td>0.355283</td>\n",
       "      <td>0.200632</td>\n",
       "      <td>-0.021946</td>\n",
       "      <td>0.071269</td>\n",
       "      <td>1.000000</td>\n",
       "      <td>-0.341699</td>\n",
       "      <td>0.148506</td>\n",
       "      <td>-0.496180</td>\n",
       "    </tr>\n",
       "    <tr>\n",
       "      <th>pH</th>\n",
       "      <td>-0.682978</td>\n",
       "      <td>0.234937</td>\n",
       "      <td>-0.541904</td>\n",
       "      <td>-0.085652</td>\n",
       "      <td>-0.265026</td>\n",
       "      <td>0.070377</td>\n",
       "      <td>-0.066495</td>\n",
       "      <td>-0.341699</td>\n",
       "      <td>1.000000</td>\n",
       "      <td>-0.196648</td>\n",
       "      <td>0.205633</td>\n",
       "    </tr>\n",
       "    <tr>\n",
       "      <th>sulphates</th>\n",
       "      <td>0.183006</td>\n",
       "      <td>-0.260987</td>\n",
       "      <td>0.312770</td>\n",
       "      <td>0.005527</td>\n",
       "      <td>0.371260</td>\n",
       "      <td>0.051658</td>\n",
       "      <td>0.042947</td>\n",
       "      <td>0.148506</td>\n",
       "      <td>-0.196648</td>\n",
       "      <td>1.000000</td>\n",
       "      <td>0.093595</td>\n",
       "    </tr>\n",
       "    <tr>\n",
       "      <th>alcohol</th>\n",
       "      <td>-0.061668</td>\n",
       "      <td>-0.202288</td>\n",
       "      <td>0.109903</td>\n",
       "      <td>0.042075</td>\n",
       "      <td>-0.221141</td>\n",
       "      <td>-0.069408</td>\n",
       "      <td>-0.205654</td>\n",
       "      <td>-0.496180</td>\n",
       "      <td>0.205633</td>\n",
       "      <td>0.093595</td>\n",
       "      <td>1.000000</td>\n",
       "    </tr>\n",
       "  </tbody>\n",
       "</table>\n",
       "</div>"
      ],
      "text/plain": [
       "                      fixed acidity  volatile acidity  citric acid  \\\n",
       "fixed acidity              1.000000         -0.256131     0.671703   \n",
       "volatile acidity          -0.256131          1.000000    -0.552496   \n",
       "citric acid                0.671703         -0.552496     1.000000   \n",
       "residual sugar             0.114777          0.001918     0.143577   \n",
       "chlorides                  0.093705          0.061298     0.203823   \n",
       "free sulfur dioxide       -0.153794         -0.010504    -0.060978   \n",
       "total sulfur dioxide      -0.113181          0.076470     0.035533   \n",
       "density                    0.668047          0.022026     0.364947   \n",
       "pH                        -0.682978          0.234937    -0.541904   \n",
       "sulphates                  0.183006         -0.260987     0.312770   \n",
       "alcohol                   -0.061668         -0.202288     0.109903   \n",
       "\n",
       "                      residual sugar  chlorides  free sulfur dioxide  \\\n",
       "fixed acidity               0.114777   0.093705            -0.153794   \n",
       "volatile acidity            0.001918   0.061298            -0.010504   \n",
       "citric acid                 0.143577   0.203823            -0.060978   \n",
       "residual sugar              1.000000   0.055610             0.187049   \n",
       "chlorides                   0.055610   1.000000             0.005562   \n",
       "free sulfur dioxide         0.187049   0.005562             1.000000   \n",
       "total sulfur dioxide        0.203028   0.047400             0.667666   \n",
       "density                     0.355283   0.200632            -0.021946   \n",
       "pH                         -0.085652  -0.265026             0.070377   \n",
       "sulphates                   0.005527   0.371260             0.051658   \n",
       "alcohol                     0.042075  -0.221141            -0.069408   \n",
       "\n",
       "                      total sulfur dioxide   density        pH  sulphates  \\\n",
       "fixed acidity                    -0.113181  0.668047 -0.682978   0.183006   \n",
       "volatile acidity                  0.076470  0.022026  0.234937  -0.260987   \n",
       "citric acid                       0.035533  0.364947 -0.541904   0.312770   \n",
       "residual sugar                    0.203028  0.355283 -0.085652   0.005527   \n",
       "chlorides                         0.047400  0.200632 -0.265026   0.371260   \n",
       "free sulfur dioxide               0.667666 -0.021946  0.070377   0.051658   \n",
       "total sulfur dioxide              1.000000  0.071269 -0.066495   0.042947   \n",
       "density                           0.071269  1.000000 -0.341699   0.148506   \n",
       "pH                               -0.066495 -0.341699  1.000000  -0.196648   \n",
       "sulphates                         0.042947  0.148506 -0.196648   1.000000   \n",
       "alcohol                          -0.205654 -0.496180  0.205633   0.093595   \n",
       "\n",
       "                       alcohol  \n",
       "fixed acidity        -0.061668  \n",
       "volatile acidity     -0.202288  \n",
       "citric acid           0.109903  \n",
       "residual sugar        0.042075  \n",
       "chlorides            -0.221141  \n",
       "free sulfur dioxide  -0.069408  \n",
       "total sulfur dioxide -0.205654  \n",
       "density              -0.496180  \n",
       "pH                    0.205633  \n",
       "sulphates             0.093595  \n",
       "alcohol               1.000000  "
      ]
     },
     "execution_count": 38,
     "metadata": {},
     "output_type": "execute_result"
    }
   ],
   "source": [
    "#checking for correlation with dependent variable\n",
    "data_x.corrwith(data_y)\n",
    "\n",
    "#checking for multicollinearity\n",
    "data_x.corr()   # no variables with correalation greater than 0.85, no issue of multicollinearity\n"
   ]
  },
  {
   "cell_type": "code",
   "execution_count": 39,
   "metadata": {},
   "outputs": [
    {
     "data": {
      "text/plain": [
       "Text(0, 0.5, 'Wine Quality')"
      ]
     },
     "execution_count": 39,
     "metadata": {},
     "output_type": "execute_result"
    },
    {
     "data": {
      "image/png": "[encoded data removed]",
      "text/plain": [
       "<Figure size 432x288 with 1 Axes>"
      ]
     },
     "metadata": {
      "needs_background": "light"
     },
     "output_type": "display_data"
    }
   ],
   "source": [
    "#plotting correalated variable scatter plots for visualizing \n",
    "plt.scatter(data_x['citric acid'],data_y)\n",
    "plt.xlabel('fixed acidity')\n",
    "plt.ylabel('Wine Quality')\n",
    "\n",
    "plt.scatter(data_x['volatile acidity'],data_y)\n",
    "plt.xlabel('volatile acidity')\n",
    "plt.ylabel('Wine Quality')\n",
    "\n",
    "plt.scatter(data_x['sulphates'],data_y)\n",
    "plt.xlabel('sulphates')\n",
    "plt.ylabel('Wine Quality')\n",
    "\n",
    "plt.scatter(data_x['alcohol'],data_y)\n",
    "plt.xlabel('alcohol')\n",
    "plt.ylabel('Wine Quality')"
   ]
  },
  {
   "cell_type": "code",
   "execution_count": 40,
   "metadata": {},
   "outputs": [],
   "source": [
    "#Train test split for validating model\n",
    "trainx, testx, trainy, testy = train_test_split(data_x, data_y, test_size=0.3, random_state=42)"
   ]
  },
  {
   "cell_type": "code",
   "execution_count": 41,
   "metadata": {},
   "outputs": [],
   "source": [
    "#Data columns are at different scale,apply this function to normalize before appling gradient descent optim \n",
    "def normalize_and_stackintercept(trainx,testx):\n",
    "    traindatax=trainx\n",
    "    testdatax=testx\n",
    "    mu= traindatax.mean(axis=0)\n",
    "    sigma= traindatax.std(axis=0)\n",
    "    traindatax= (traindatax-mu)/sigma\n",
    "    traindatax = np.array(traindatax)    \n",
    "    traindatax=np.hstack([np.ones((traindatax.shape[0],1)),traindatax])\n",
    "    testdatax = (testdatax-mu)/sigma\n",
    "    testdatax = np.array(testdatax)    \n",
    "    testdatax=np.hstack([np.ones((testdatax.shape[0],1)),testdatax])    \n",
    "    return traindatax,testdatax"
   ]
  },
  {
   "cell_type": "code",
   "execution_count": 42,
   "metadata": {},
   "outputs": [],
   "source": [
    "#normalizing train and test and stacking ones for intercept term\n",
    "trainx,testx=normalize_and_stackintercept(trainx,testx)"
   ]
  },
  {
   "cell_type": "code",
   "execution_count": 43,
   "metadata": {},
   "outputs": [],
   "source": [
    "#Running Gradient Descent optimization\n",
    "def Gradient_Descent(trainx,trainy,testx,testy,lr=0.05,iters=100):\n",
    "    train_m = trainx.shape[0]\n",
    "    test_m = testx.shape[0]\n",
    "    n = trainx.shape[1]\n",
    "    coeff= np.zeros((n,1))\n",
    "    train_Loss=[]\n",
    "    test_Loss=[]\n",
    "    \n",
    "    for iterations in range(iters):        \n",
    "        train_prediction= np.dot(trainx,coeff)\n",
    "        train_error = train_prediction-trainy.reshape(train_m,1)\n",
    "        test_prediction= np.dot(testx,coeff)\n",
    "        test_error = test_prediction-testy.reshape(test_m,1) \n",
    "        train_loss= np.sum(np.square(train_error))/(2*train_m) \n",
    "        test_loss=  np.sum(np.square(test_error))/(2*test_m) \n",
    "        print(\"iteration \"+str(iterations)+\" train_cost: \"+str(train_loss) +\" test_cost: \"+str(test_loss))\n",
    "        train_Loss.append(train_loss)\n",
    "        test_Loss.append(test_loss) \n",
    "        gradient=np.dot(train_error.T,trainx)/train_m \n",
    "        coeff= coeff-lr*(gradient.T)\n",
    "        \n",
    "    Loss_dict=pd.DataFrame({'train_Loss':train_Loss,'test_Loss':test_Loss})\n",
    "    \n",
    "    return coeff,Loss_dict"
   ]
  },
  {
   "cell_type": "code",
   "execution_count": 44,
   "metadata": {},
   "outputs": [
    {
     "name": "stdout",
     "output_type": "stream",
     "text": [
      "iteration 0 train_cost: 16.132707774798927 test_cost: 16.384375\n",
      "iteration 1 train_cost: 14.573180730690513 test_cost: 14.796391150771838\n",
      "iteration 2 train_cost: 13.167034509218418 test_cost: 13.365429658558366\n",
      "iteration 3 train_cost: 11.899070075933652 test_cost: 12.075791906884373\n",
      "iteration 4 train_cost: 10.755616625068805 test_cost: 10.913378240045777\n",
      "iteration 5 train_cost: 9.72437340572836 test_cost: 9.86551959247378\n",
      "iteration 6 train_cost: 8.794268884205952 test_cost: 8.920827949055536\n",
      "iteration 7 train_cost: 7.955335129073637 test_cost: 8.069063298897408\n",
      "iteration 8 train_cost: 7.1985956106899085 test_cost: 7.301015084846562\n",
      "iteration 9 train_cost: 6.515964857695739 test_cost: 6.608396431110917\n",
      "iteration 10 train_cost: 5.900158621424451 test_cost: 5.983749664073895\n",
      "iteration 11 train_cost: 5.344613373681682 test_cost: 5.420361836449221\n",
      "iteration 12 train_cost: 4.843414110739682 test_cost: 4.912189129606635\n",
      "iteration 13 train_cost: 4.391229561787163 test_cost: 4.4537891489107\n",
      "iteration 14 train_cost: 3.983254007486026 test_cost: 4.0402602466951985\n",
      "iteration 15 train_cost: 3.615155006849696 test_cost: 3.667187110546228\n",
      "iteration 16 train_cost: 3.283026410858894 test_cost: 3.3305919436712315\n",
      "iteration 17 train_cost: 2.983346111054265 test_cost: 3.0268906415217147\n",
      "iteration 18 train_cost: 2.712938032390693 test_cost: 2.752853436320579\n",
      "iteration 19 train_cost: 2.4689379332069983 test_cost: 2.505569540195823\n",
      "iteration 20 train_cost: 2.2487626223250796 test_cost: 2.282415369454171\n",
      "iteration 21 train_cost: 2.0500822449287566 test_cost: 2.081025978147914\n",
      "iteration 22 train_cost: 1.8707953257226158 test_cost: 1.8992693693371023\n",
      "iteration 23 train_cost: 1.7090062905557077 test_cost: 1.735223388035253\n",
      "iteration 24 train_cost: 1.5630052167396515 test_cost: 1.5871549313494786\n",
      "iteration 25 train_cost: 1.4312495881435303 test_cost: 1.4535012392960804\n",
      "iteration 26 train_cost: 1.3123478541930846 test_cost: 1.3328530546275565\n",
      "iteration 27 train_cost: 1.2050446124702698 test_cost: 1.2239394621229822\n",
      "iteration 28 train_cost: 1.1082072529879585 test_cost: 1.125614237496064\n",
      "iteration 29 train_cost: 1.0208139186528402 test_cost: 1.0368435536459006\n",
      "iteration 30 train_cost: 0.9419426511453163 test_cost: 0.9566949076604758\n",
      "iteration 31 train_cost: 0.8707616046290088 test_cost: 0.8843271459964751\n",
      "iteration 32 train_cost: 0.8065202215222254 test_cost: 0.8189814777892389\n",
      "iteration 33 train_cost: 0.7485412751669548 test_cost: 0.7599733774584838\n",
      "iteration 34 train_cost: 0.69621369374824 test_cost: 0.7066852878140572\n",
      "iteration 35 train_cost: 0.6489860883635287 test_cost: 0.6585600438595142\n",
      "iteration 36 train_cost: 0.6063609158202411 test_cost: 0.6150949455528781\n",
      "iteration 37 train_cost: 0.5678892136412795 test_cost: 0.5758364150136969\n",
      "iteration 38 train_cost: 0.5331658509634131 test_cost: 0.5403751801522108\n",
      "iteration 39 train_cost: 0.5018252445945162 test_cost: 0.5083419325188875\n",
      "iteration 40 train_cost: 0.4735374945167669 test_cost: 0.4794034124007827\n",
      "iteration 41 train_cost: 0.448004897641514 test_cost: 0.4532588788874411\n",
      "iteration 42 train_cost: 0.42495880268888153 test_cost: 0.42963692684886545\n",
      "iteration 43 train_cost: 0.4041567727271931 test_cost: 0.40829261656091664\n",
      "iteration 44 train_cost: 0.3853800252049908 test_cost: 0.38900488512351117\n",
      "iteration 45 train_cost: 0.3684311222786201 test_cost: 0.3715742118835948\n",
      "iteration 46 train_cost: 0.35313188691398006 test_cost: 0.3558205128332837\n",
      "iteration 47 train_cost: 0.3393215226517459 test_cost: 0.34158124143536867\n",
      "iteration 48 train_cost: 0.32685491709760844 test_cost: 0.3287096755616813\n",
      "iteration 49 train_cost: 0.3156011111567469 test_cost: 0.3170733722399503\n",
      "iteration 50 train_cost: 0.3054419177962333 test_cost: 0.3065527737143245\n",
      "iteration 51 train_cost: 0.29627067570956495 test_cost: 0.29703994995396965\n",
      "iteration 52 train_cost: 0.287991124691399 test_cost: 0.28843746421130034\n",
      "iteration 53 train_cost: 0.2805163908232673 test_cost: 0.28065734955272464\n",
      "iteration 54 train_cost: 0.2737680707366585 test_cost: 0.2736201854749788\n",
      "iteration 55 train_cost: 0.2676754052708857 test_cost: 0.26725426479230535\n",
      "iteration 56 train_cost: 0.2621745337909707 test_cost: 0.2614948419457229\n",
      "iteration 57 train_cost: 0.25720782128553443 test_cost: 0.2562834547560359\n",
      "iteration 58 train_cost: 0.252723251135596 test_cost: 0.251567312426592\n",
      "iteration 59 train_cost: 0.24867387714049097 test_cost: 0.24729874330868332\n",
      "iteration 60 train_cost: 0.24501732901427015 test_cost: 0.2434346965795919\n",
      "iteration 61 train_cost: 0.24171536613165118 test_cost: 0.23993629255756796\n",
      "iteration 62 train_cost: 0.2387334748128931 test_cost: 0.23676841689570202\n",
      "iteration 63 train_cost: 0.2360405048972995 test_cost: 0.23389935436334852\n",
      "iteration 64 train_cost: 0.23360834177034356 test_cost: 0.2313004583445106\n",
      "iteration 65 train_cost: 0.2314116103840402 test_cost: 0.22894585256195382\n",
      "iteration 66 train_cost: 0.22942740814820475 test_cost: 0.22681216187788544\n",
      "iteration 67 train_cost: 0.22763506387516538 test_cost: 0.22487826933047292\n",
      "iteration 68 train_cost: 0.22601592023562672 test_cost: 0.22312509684362614\n",
      "iteration 69 train_cost: 0.22455313743161448 test_cost: 0.22153540729830812\n",
      "iteration 70 train_cost: 0.22323151601639837 test_cost: 0.2200936258798534\n",
      "iteration 71 train_cost: 0.22203733699337222 test_cost: 0.21878567881980598\n",
      "iteration 72 train_cost: 0.2209582175082127 test_cost: 0.21759884783480452\n",
      "iteration 73 train_cost: 0.2199829806131626 test_cost: 0.2165216387310228\n",
      "iteration 74 train_cost: 0.21910153773074298 test_cost: 0.215543662792388\n",
      "iteration 75 train_cost: 0.21830478257815586 test_cost: 0.21465552970584667\n",
      "iteration 76 train_cost: 0.2175844954345162 test_cost: 0.21384875089876568\n",
      "iteration 77 train_cost: 0.21693325674213054 test_cost: 0.21311565227345625\n",
      "iteration 78 train_cost: 0.21634436913145946 test_cost: 0.2124492954229379\n",
      "iteration 79 train_cost: 0.2158117870482267 test_cost: 0.21184340650150205\n",
      "iteration 80 train_cost: 0.21533005324127955 test_cost: 0.21129231200431733\n",
      "iteration 81 train_cost: 0.21489424144213531 test_cost: 0.2107908807831151\n",
      "iteration 82 train_cost: 0.21449990463241433 test_cost: 0.21033447169067104\n",
      "iteration 83 train_cost: 0.2141430283542568 test_cost: 0.20991888630605088\n",
      "iteration 84 train_cost: 0.21381998857197324 test_cost: 0.20954032624605776\n",
      "iteration 85 train_cost: 0.21352751364114136 test_cost: 0.20919535461655253\n",
      "iteration 86 train_cost: 0.21326264998464703 test_cost: 0.20888086120084887\n",
      "iteration 87 train_cost: 0.2130227311142278 test_cost: 0.2085940310216568\n",
      "iteration 88 train_cost: 0.2128053496713294 test_cost: 0.20833231594848822\n",
      "iteration 89 train_cost: 0.21260833219289677 test_cost: 0.20809340905441584\n",
      "iteration 90 train_cost: 0.2124297163364272 test_cost: 0.20787522145493237\n",
      "iteration 91 train_cost: 0.2122677303245266 test_cost: 0.20767586138769786\n",
      "iteration 92 train_cost: 0.21212077439258448 test_cost: 0.20749361531545846\n",
      "iteration 93 train_cost: 0.2119874040442891 test_cost: 0.20732693085562726\n",
      "iteration 94 train_cost: 0.21186631493874175 test_cost: 0.20717440135915272\n",
      "iteration 95 train_cost: 0.21175632925011786 test_cost: 0.20703475197856983\n",
      "iteration 96 train_cost: 0.21165638335632947 test_cost: 0.20690682708071312\n",
      "iteration 97 train_cost: 0.21156551672714063 test_cost: 0.20678957887363947\n",
      "iteration 98 train_cost: 0.2114828618948184 test_cost: 0.20668205712999688\n",
      "iteration 99 train_cost: 0.21140763540180196 test_cost: 0.20658339990053637\n"
     ]
    },
    {
     "data": {
      "text/plain": [
       "<matplotlib.axes._subplots.AxesSubplot at 0x7fea6d94ce10>"
      ]
     },
     "execution_count": 44,
     "metadata": {},
     "output_type": "execute_result"
    },
    {
     "data": {
      "image/png": "[encoded data removed]",
      "text/plain": [
       "<Figure size 432x288 with 1 Axes>"
      ]
     },
     "metadata": {
      "needs_background": "light"
     },
     "output_type": "display_data"
    }
   ],
   "source": [
    "coeff,loss_dict = Gradient_Descent(trainx,trainy.values,testx,testy.values,lr=0.05)\n",
    "loss_dict.plot()"
   ]
  },
  {
   "cell_type": "code",
   "execution_count": 45,
   "metadata": {},
   "outputs": [],
   "source": [
    "def predict(data,coeff):\n",
    "    pred=np.dot(data,coeff)\n",
    "    return pred"
   ]
  },
  {
   "cell_type": "code",
   "execution_count": 46,
   "metadata": {},
   "outputs": [],
   "source": [
    "#predicting on training and testset\n",
    "train_prediction= predict(trainx,coeff)\n",
    "test_prediction= predict(testx,coeff)"
   ]
  },
  {
   "cell_type": "code",
   "execution_count": 47,
   "metadata": {},
   "outputs": [
    {
     "name": "stdout",
     "output_type": "stream",
     "text": [
      "[[ 5.58869879]\n",
      " [ 0.05750995]\n",
      " [-0.1816409 ]\n",
      " [-0.01152795]\n",
      " [ 0.02327673]\n",
      " [-0.08521022]\n",
      " [ 0.04058309]\n",
      " [-0.10728482]\n",
      " [-0.06605564]\n",
      " [-0.02430132]\n",
      " [ 0.14577259]\n",
      " [ 0.27905107]]\n"
     ]
    }
   ],
   "source": [
    "print(coeff)"
   ]
  },
  {
   "cell_type": "code",
   "execution_count": 48,
   "metadata": {},
   "outputs": [],
   "source": [
    "def rsquared(y,y_hat):\n",
    "    sst = np.sum((y-np.mean(y))**2)\n",
    "    ssr = np.sum((y-y_hat.reshape(y_hat.shape[0],))**2)\n",
    "    score = 1-(ssr/sst)\n",
    "    return score"
   ]
  },
  {
   "cell_type": "code",
   "execution_count": 49,
   "metadata": {},
   "outputs": [],
   "source": [
    "#Calculating Rsquared value for training and test set\n",
    "train_score=rsquared(trainy,train_prediction)    \n",
    "test_score=rsquared(testy,test_prediction)    "
   ]
  },
  {
   "cell_type": "code",
   "execution_count": 50,
   "metadata": {},
   "outputs": [
    {
     "data": {
      "text/plain": [
       "1     False\n",
       "2      True\n",
       "3     False\n",
       "4     False\n",
       "5      True\n",
       "6     False\n",
       "7      True\n",
       "8     False\n",
       "9     False\n",
       "10     True\n",
       "11     True\n",
       "dtype: bool"
      ]
     },
     "execution_count": 50,
     "metadata": {},
     "output_type": "execute_result"
    }
   ],
   "source": [
    "def compute_pvalue(trainx,trainy,prerdiction):\n",
    "    train_m=trainx.shape[0]\n",
    "    residuals= trainy.reshape(train_m,1)-train_prediction\n",
    "    mse= np.sum(np.square(residuals))/(trainx.shape[0]-trainx.shape[1])\n",
    "    stderror=np.sqrt( mse*np.diag(np.linalg.inv(np.dot(trainx.T,trainx))))\n",
    "    tstatistic= coeff/stderror.reshape(n,1)\n",
    "    df=trainx.shape[0]-trainx.shape[1]\n",
    "    pvalue=[2*(1-stats.t.cdf(tstat,df)) if tstat>0 else 2*stats.t.cdf(tstat,df) for tstat in tstatistic]\n",
    "    return pvalue,tstatistic\n",
    "\n",
    "pvalue,_ = compute_pvalue(trainx,trainy.values,train_prediction)\n",
    "#important features\n",
    "(pd.Series(pvalue) < 0.05)[1:]"
   ]
  },
  {
   "cell_type": "code",
   "execution_count": 51,
   "metadata": {},
   "outputs": [],
   "source": [
    "important_features=data_x.columns[(pd.Series(pvalue) < 0.05)[1:]]"
   ]
  },
  {
   "cell_type": "code",
   "execution_count": 52,
   "metadata": {},
   "outputs": [
    {
     "data": {
      "text/plain": [
       "<matplotlib.collections.PathCollection at 0x7fea6d8dcf98>"
      ]
     },
     "execution_count": 52,
     "metadata": {},
     "output_type": "execute_result"
    },
    {
     "data": {
      "image/png": "[encoded data removed]",
      "text/plain": [
       "<Figure size 432x288 with 1 Axes>"
      ]
     },
     "metadata": {
      "needs_background": "light"
     },
     "output_type": "display_data"
    }
   ],
   "source": [
    "#Using only these features give comparable accuracy\n",
    "#We observe most of variables with high correalation have less pvalue as well\n",
    "#plotting important variables\n",
    "\n",
    "plt.scatter(data['volatile acidity'],data_y)\n",
    "plt.scatter(data['chlorides'],data_y)\n",
    "plt.scatter(data['total sulfur dioxide'],data_y)\n",
    "plt.scatter(data['sulphates'],data_y)\n",
    "plt.scatter(data['alcohol'],data_y)"
   ]
  },
  {
   "cell_type": "code",
   "execution_count": 53,
   "metadata": {},
   "outputs": [],
   "source": [
    "#Alternative method\n",
    "def SolveNormalEquation(trainx,trainy):    \n",
    "    return np.dot(np.linalg.inv(np.dot(trainx.T,trainx)),np.dot(trainx.T,trainy))\n",
    "\n",
    "NormalEqcoeff=SolveNormalEquation(trainx,trainy)"
   ]
  },
  {
   "cell_type": "code",
   "execution_count": 54,
   "metadata": {},
   "outputs": [
    {
     "data": {
      "text/plain": [
       "array([ 5.62198391,  0.04022601, -0.2001546 , -0.04845448,  0.01104757,\n",
       "       -0.07889806,  0.0467472 , -0.10782819, -0.02620485, -0.0491577 ,\n",
       "        0.14000254,  0.309438  ])"
      ]
     },
     "execution_count": 54,
     "metadata": {},
     "output_type": "execute_result"
    }
   ],
   "source": [
    "NormalEqcoeff"
   ]
  }
 ],
 "metadata": {
  "kernelspec": {
   "display_name": "Python 3",
   "language": "python",
   "name": "python3"
  },
  "language_info": {
   "codemirror_mode": {
    "name": "ipython",
    "version": 3
   },
   "file_extension": ".py",
   "mimetype": "text/x-python",
   "name": "python",
   "nbconvert_exporter": "python",
   "pygments_lexer": "ipython3",
   "version": "3.7.3"
  }
 },
 "nbformat": 4,
 "nbformat_minor": 2
}
