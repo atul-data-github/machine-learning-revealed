{
 "cells": [
  {
   "cell_type": "code",
   "execution_count": 1,
   "metadata": {},
   "outputs": [],
   "source": [
    "#Importing mnist using keras and reshaping and using first 1000 examples for train and test  \n",
    "import numpy as np\n",
    "from keras.datasets import mnist\n",
    "import pandas as pd\n",
    "%matplotlib inline \n",
    "\n",
    "(X_train, y_train), (X_test, y_test) = mnist.load_data()\n",
    "X_train= X_train/255\n",
    "X_test = X_test/255\n",
    "temp=X_train.reshape(60000,28*28).T\n",
    "temp=temp.reshape(28,28,1,60000)\n",
    "temp= temp[:,:,:,:1000]\n",
    "ytemp = y_train[:1000]"
   ]
  },
  {
   "cell_type": "code",
   "execution_count": 23,
   "metadata": {},
   "outputs": [],
   "source": [
    "temp_test=X_test.reshape(10000,28*28).T\n",
    "temp_test=temp_test.reshape(28,28,1,10000)\n",
    "temp_test= temp_test[:,:,:,:1000]\n",
    "ytemp_test = y_test[:1000]"
   ]
  },
  {
   "cell_type": "code",
   "execution_count": 2,
   "metadata": {},
   "outputs": [],
   "source": [
    "def flatten(feature_map):\n",
    "    ''' input: 4-d feature_map (H,W,C,m)\n",
    "        output: flattened vector (H*W*C,m) and shape'''\n",
    "    shape_x=feature_map.shape[0]\n",
    "    shape_y=feature_map.shape[1]\n",
    "    shape_z=feature_map.shape[2]\n",
    "    m=feature_map.shape[3]\n",
    "    flattened_vec = feature_map.reshape(shape_x*shape_y*shape_z,m)\n",
    "    return flattened_vec,shape_x,shape_y,shape_z,m\n"
   ]
  },
  {
   "cell_type": "code",
   "execution_count": 3,
   "metadata": {},
   "outputs": [],
   "source": [
    "def relu(x):\n",
    "    y= np.maximum(0,x)\n",
    "    return y\n",
    "\n",
    "def relugradient(dact,act):\n",
    "    dhidden = dact\n",
    "    dhidden[act<=0]=0\n",
    "    return dhidden\n",
    "\n",
    "def softmax(x):\n",
    "    softm = np.exp(x)/np.sum(np.exp(x),axis=1,keepdims=True)\n",
    "    return softm"
   ]
  },
  {
   "cell_type": "code",
   "execution_count": 4,
   "metadata": {},
   "outputs": [],
   "source": [
    "def cnn_layer_forward(feature_map,filtermat,pad=0,stride=1):\n",
    "    ''' input: feature_map (H,W,C,m), filtermat (h,w,C,num_filters),pad, stride\n",
    "        output: Convolved feature_map (output_H,Output_W,num_filters,m)'''     \n",
    "    pad = int(pad)\n",
    "    if (pad is not 0):\n",
    "        feature_map = np.pad(feature_map, ((pad,pad),(pad,pad),(0,0),(0,0)), 'constant')\n",
    "    n = int(feature_map.shape[0])\n",
    "    m = int(feature_map.shape[3])\n",
    "    f = int(filtermat.shape[0])\n",
    "    s = int(stride)\n",
    "    num_channels=int(feature_map.shape[2])\n",
    "    num_filters=filtermat.shape[3]\n",
    "    if (type((n-f)//s) is not int):\n",
    "         print((n-f)//s)\n",
    "         print('invalid padding or stride')\n",
    "         return\n",
    "    output_size = int((n-f)/s) +1\n",
    "    #print(output_size)\n",
    "    feat_map2 = np.zeros((output_size,output_size,num_filters,m))\n",
    "    for k in range(num_filters):\n",
    "        for i in range(output_size):\n",
    "            for j in range(output_size):\n",
    "                feat_map2[i,j,k,:]=np.sum(feature_map[i*s:(i*s+f),j*s:(j*s+f),:,:]*(filtermat[:,:,:,k].reshape(f,f,num_channels,-1)),axis=(0,1,2))\n",
    "                \n",
    "    return feat_map2\n",
    "\n"
   ]
  },
  {
   "cell_type": "code",
   "execution_count": 5,
   "metadata": {},
   "outputs": [],
   "source": [
    "def cnn_averagepool_forward(feature_map,f=2,stride=2):\n",
    "    ''' input: feature map (H,W,C,m), f:filtersize stride:should be same as f\n",
    "        output: average pooled feature_map (H/f,W/f,C,m)'''       \n",
    "    n = int(feature_map.shape[0])\n",
    "    m = int(feature_map.shape[3])\n",
    "    s = int(stride)\n",
    "    num_filters=int(feature_map.shape[2])\n",
    "    output_size = int((n-f)/s) +1\n",
    "    feat_map2 = np.zeros((output_size,output_size,num_filters,m))\n",
    "    for k in range(num_filters):\n",
    "        for i in range(output_size):\n",
    "            for j in range(output_size):\n",
    "                feat_map2[i,j,k,:]=np.sum(feature_map[i*s:(i*s+f),j*s:(j*s+f),k,:],axis=(0,1))/(f*f)                \n",
    "    return feat_map2\n"
   ]
  },
  {
   "cell_type": "code",
   "execution_count": 6,
   "metadata": {},
   "outputs": [],
   "source": [
    "def cnn_maxpool_forward(feature_map,f=2,stride=2):\n",
    "    ''' input: feature map (H,W,C,m), f:filtersize stride:should be same as f\n",
    "        output: max pooled feature_map (H/f,W/f,C,m)'''              \n",
    "    n = int(feature_map.shape[0])\n",
    "    m = int(feature_map.shape[3])\n",
    "    s = int(stride)\n",
    "    num_filters=int(feature_map.shape[2])\n",
    "    output_size = int((n-f)/s) +1\n",
    "    feat_map2 = np.zeros((output_size,output_size,num_filters,m))\n",
    "    for k in range(num_filters):\n",
    "        for i in range(output_size):\n",
    "            for j in range(output_size):\n",
    "                feat_map2[i,j,k,:]=np.max(feature_map[i*s:(i*s+f),j*s:(j*s+f),k,:],axis=(0,1))                \n",
    "    return feat_map2"
   ]
  },
  {
   "cell_type": "code",
   "execution_count": 7,
   "metadata": {},
   "outputs": [],
   "source": [
    "def conv_backward(dH, myfilter,X,stride=1,pad=0):\n",
    "    ''' input: dH (H,W,C,m) gradient hidden layer myfilter: (h,w,C_prev,C), X: feature map of adjacent layer\n",
    "        output: dfilter: (h,w,k,C) filter gradient, dX: (H_prev,W_prev,C_prev,m)gradient next hidden layer\n",
    "        No bias term because of batchnorm'''  \n",
    "    (f, f, num_channels,num_filters) = myfilter.shape\n",
    "    \n",
    "    (n_H, n_W,_,_) = dH.shape\n",
    "    s=stride\n",
    "    dfilter = np.zeros(myfilter.shape)\n",
    "    dX = np.zeros(X.shape)\n",
    "    m = X.shape[3]\n",
    "    X = np.pad(X, ((pad,pad),(pad,pad),(0,0),(0,0)), 'constant')\n",
    "    dX = np.pad(dX, ((pad,pad),(pad,pad),(0,0),(0,0)), 'constant') \n",
    "\n",
    "    for k in range(num_filters):\n",
    "        shapedfilter=np.tile(myfilter[:,:,:,k].reshape(f,f,num_channels,1),(1,1,1,1,m))[0]\n",
    "        for h in range(n_H):\n",
    "            for w in range(n_W):\n",
    "                   dX[h*s:h*s+f, w*s:w*s+f,:,:] += shapedfilter * dH[h,w,k,:]\n",
    "                   dfilter[:,:,:,k] += np.sum(X[h*s:h*s+f, w*s:w*s+f,:,:] * dH[h,w,k,:],axis=3)\n",
    "    dX = dX[pad:-pad,pad:-pad,:,:]\n",
    "    return dfilter,dX"
   ]
  },
  {
   "cell_type": "code",
   "execution_count": 8,
   "metadata": {},
   "outputs": [],
   "source": [
    "def distribute_value(dz, actbeforepool,f):\n",
    "    '''helper function average pool packward: reshape gradient and scale'''\n",
    "    shapebeforepool = actbeforepool.shape\n",
    "    dz_reshape=np.repeat(np.repeat(dz,[f],axis=1),[f],axis=0)\n",
    "    average = dz_reshape / (f * f)\n",
    "    a = np.ones(shapebeforepool) * average    \n",
    "    return a\n",
    "\n",
    "def cnn_averagepool_backward(dfeat_map_pooled,feat_map_act,f=2,stride=2):\n",
    "    '''backwarprop for averagepooling layer'''\n",
    "    a= distribute_value(dfeat_map_pooled,feat_map_act,f)      \n",
    "    return a\n"
   ]
  },
  {
   "cell_type": "code",
   "execution_count": 9,
   "metadata": {},
   "outputs": [],
   "source": [
    "def cnn_maxpool_backward(dA_pooled,A_act,f=2,stride=2):\n",
    "    ''' input: dA_pooled: (H,W,C,m) gradient of pooled layer A_act:(f*H,f*W,C,m) layer before pooling\n",
    "        output: dA_act: (f*H,f*W,C,m)'''\n",
    "    dA_act = np.zeros(A_act.shape)\n",
    "    s = stride\n",
    "    (n_H,n_W,n_C,_)=dA_pooled.shape\n",
    "    dA_pooled_reshape=np.repeat(np.repeat(dA_pooled,[f],axis=1),[f],axis=0)\n",
    "    for c in range(n_C):\n",
    "        for h in range(n_H):\n",
    "            for w in range(n_W):\n",
    "                mask = (A_act[h*s:h*s+f,w*s:w*s+f,c,:]==np.max(A_act[h*s:h*s+f,w*s:w*s+f,c,:],axis=(0,1)))\n",
    "                dA_act[h*s:h*s+f,w*s:w*s+f,c,:]=dA_pooled_reshape[h*s:h*s+f,w*s:w*s+f,c,:]*mask                   \n",
    "    return dA_act\n",
    "\n"
   ]
  },
  {
   "cell_type": "code",
   "execution_count": 10,
   "metadata": {},
   "outputs": [],
   "source": [
    "def calculate_loss(y,y_prob):\n",
    "    loss_train=0\n",
    "    m = y.shape[0]\n",
    "    for i in np.arange(m):\n",
    "        loss_train = loss_train+ (-np.log(y_prob[i,y[i]]))\n",
    "    loss_train = loss_train/m\n",
    "    return loss_train\n",
    "\n",
    "def accuracy_score(y,y_prob):\n",
    "    pred=pd.DataFrame(y_prob).idxmax(axis=1)\n",
    "    return np.mean(pred==y)"
   ]
  },
  {
   "cell_type": "code",
   "execution_count": 11,
   "metadata": {},
   "outputs": [],
   "source": [
    "       \n",
    "def batchnorm_forward(x, gamma, beta, eps):\n",
    "  ''' input: x: (m,hidden_size),gamma:scale parameter, beta: shift parameter\n",
    "      output: out: (m,hidden_size), cache for backprop'''\n",
    "  N, D = x.shape\n",
    "  #step1: calculate mean\n",
    "  mu = 1./N * np.sum(x, axis = 0)\n",
    "  #step2: subtract mean vector of every trainings example\n",
    "  xmu = x - mu\n",
    "  #step3: following the lower branch - calculation denominator\n",
    "  sq = xmu ** 2\n",
    "  #step4: calculate variance\n",
    "  var = 1./N * np.sum(sq, axis = 0)\n",
    "  #step5: add eps for numerical stability, then sqrt\n",
    "  sqrtvar = np.sqrt(var + eps)\n",
    "  #step6: invert sqrtwar\n",
    "  ivar = 1./sqrtvar\n",
    "  #step7: execute normalization\n",
    "  xhat = xmu * ivar\n",
    "  #step8: Nor the two transformation steps\n",
    "  gammax = gamma * xhat\n",
    "  #step9\n",
    "  out = gammax + beta\n",
    "  #store intermediate\n",
    "  cache = (xhat,gamma,xmu,ivar,sqrtvar,var,eps)\n",
    "  return out, cache"
   ]
  },
  {
   "cell_type": "code",
   "execution_count": 12,
   "metadata": {},
   "outputs": [],
   "source": [
    "def convbatchnorm_forward(X, gamma, beta, eps = 1e-5):\n",
    "    ''' input: x: (H,W,C,m),gamma:scale parameter, beta: shift parameter\n",
    "        output: out: (H,W,C,m) cache for backprop'''\n",
    "\n",
    "    H, W, C, N = X.shape\n",
    "        # mini-batch mean\n",
    "    mu = np.mean(X, axis=(0, 1, 3))\n",
    "    xmu = X -mu.reshape(1,1,C,1)\n",
    "    sq = xmu**2\n",
    "        # mini-batch variance\n",
    "    var =(1/(H*W*N)) *np.sum(sq, axis=(0, 1, 3)).reshape((1,1,C,1))\n",
    "    sqrtvar = np.sqrt(var+eps)\n",
    "    ivar = 1./sqrtvar\n",
    "    xhat = xmu * ivar\n",
    "    #print(gamma.shape)\n",
    "    gammax = gamma.reshape(1,1,C,1) * xhat\n",
    "    out = gammax + beta.reshape(1,1,C,1)\n",
    "    cache = (xhat,gamma,xmu,ivar,sqrtvar,var,eps)\n",
    "    return out , cache   "
   ]
  },
  {
   "cell_type": "code",
   "execution_count": 13,
   "metadata": {},
   "outputs": [],
   "source": [
    "def batchnorm_backward(dout, cache):\n",
    "  ''' input: dout: (m,hidden_size) grdient from backprop, cache: cache for backprop\n",
    "      output: dx: (m,hidden_size)  gradient for input of batchnorm, dgamma: gradient of scale,dbeta: gradient of shift param'''\n",
    "  #unfold the variables stored in cache\n",
    "  xhat,gamma,xmu,ivar,sqrtvar,var,eps = cache\n",
    "  #get the dimensions of the input/output\n",
    "  N,D = dout.shape\n",
    "  #step9\n",
    "  dbeta = np.sum(dout, axis=0)\n",
    "  dgammax = dout #not necessary, but more understandable\n",
    "  #step8\n",
    "  dgamma = np.sum(dgammax*xhat, axis=0)\n",
    "  dxhat = dgammax * gamma\n",
    "  #step7\n",
    "  divar = np.sum(dxhat*xmu, axis=0)\n",
    "  dxmu1 = dxhat * ivar\n",
    "  #step6\n",
    "  dsqrtvar = -1. /(sqrtvar**2) * divar\n",
    "  #step5\n",
    "  dvar = 0.5 * 1. /np.sqrt(var+eps) * dsqrtvar\n",
    "  #step4\n",
    "  dsq = 1. /N * np.ones((N,D)) * dvar\n",
    "  #step3\n",
    "  dxmu2 = 2 * xmu * dsq\n",
    "  #step2\n",
    "  dx1 = (dxmu1 + dxmu2)\n",
    "  dmu = -1 * np.sum(dxmu1+dxmu2, axis=0)\n",
    "  #step1\n",
    "  dx2 = 1. /N * np.ones((N,D)) * dmu\n",
    "  #step0\n",
    "  dx = dx1 + dx2\n",
    "  return dx, dgamma, dbeta"
   ]
  },
  {
   "cell_type": "code",
   "execution_count": 14,
   "metadata": {},
   "outputs": [],
   "source": [
    "def convbatchnorm_backward(dout, cache):\n",
    "  ''' input:  dout: (H,W,C,m) grdient from backprop, cache: cache for backprop\n",
    "      output: dx: (H,W,C,m)  gradient for input of batchnorm, dgamma: gradient:(1,1,C,1) of scale\n",
    "              dbeta: (1,1,C,1) gradient of shift param'''\n",
    "  #unfold the variables stored in cache\n",
    "  xhat,gamma,xmu,ivar,sqrtvar,var,eps = cache\n",
    "  #get the dimensions of the input/output\n",
    "  H,W,C,N = dout.shape\n",
    "  #step9\n",
    "  dbeta = np.sum(dout, axis=(0,1,3)).reshape(1,1,C,1)\n",
    "  dgammax = dout #not necessary, but more understandable\n",
    "  #step8\n",
    "  dgamma = np.sum(dgammax*xhat, axis=(0,1,3)).reshape(1,1,C,1)\n",
    "  dxhat = dgammax * gamma.reshape(1,1,C,1)\n",
    "  #step7\n",
    "  divar = np.sum(dxhat*xmu, axis=(0,1,3)).reshape(1,1,C,1)\n",
    "  dxmu1 = dxhat * ivar\n",
    "  #step6\n",
    "  dsqrtvar = -1. /(sqrtvar**2) * divar\n",
    "  #step5\n",
    "  dvar = 0.5 * 1. /np.sqrt(var+eps) * dsqrtvar\n",
    "  #step4\n",
    "  dsq = (1. /(H*W*N)) * np.ones((H,W,C,N)) * dvar\n",
    "  #step3\n",
    "  dxmu2 = 2 * xmu * dsq\n",
    "  #step2\n",
    "  dx1 = (dxmu1 + dxmu2)\n",
    "  dmu = -1 * np.sum(dxmu1+dxmu2, axis=(0,1,3))\n",
    "  #step1\n",
    "  dx2 = (1. /(H*W*N)) * np.ones((H,W,C,N)) * dmu.reshape(1,1,C,1)\n",
    "  #step0\n",
    "  dx = dx1 + dx2\n",
    "  return dx, dgamma, dbeta"
   ]
  },
  {
   "cell_type": "code",
   "execution_count": 15,
   "metadata": {},
   "outputs": [],
   "source": [
    "def forward_propagate(temp,ytemp,parameters,fc1_neurons,num_class,pad=0):\n",
    "        '''input: temp: (H,W,C,m) training data,ytemp: (m,) digit, fc1_neurons: num_neurons in fc1\n",
    "        output: loss,accuracy,cache for backprop'''\n",
    "        (myfilter1,myfilter2,W1,W2,b2,conv1gam,conv2gam,conv1bet,conv2bet,gam,bet)=parameters\n",
    "        feat_map = cnn_layer_forward(temp,myfilter1,pad=pad)\n",
    "        feat_map_bn,conv1_cache = convbatchnorm_forward(feat_map,conv1gam,conv1bet)\n",
    "        feat_map_act = relu(feat_map_bn)\n",
    "        feat_map_pool = cnn_maxpool_forward(feat_map_act,f=2,stride=2)\n",
    "        feat_map2= cnn_layer_forward(feat_map_pool,myfilter2,pad=pad)\n",
    "        feat_map2_bn,conv2_cache = convbatchnorm_forward(feat_map2,conv2gam,conv2bet)\n",
    "        feat_map2_act=relu(feat_map2_bn)\n",
    "        flattened_vec,shape_x,shape_y,shape_z,m = flatten(feat_map2_act)\n",
    "        shape = (shape_x,shape_y,shape_z,m)\n",
    "        fc1 = np.dot(flattened_vec.T,W1)\n",
    "        fc1_bn,fc_cache=batchnorm_forward(fc1, gamma=gam, beta=bet, eps = 1e-5)\n",
    "        fc1_act = relu(fc1_bn)\n",
    "        output = np.dot(fc1_act,W2)+b2\n",
    "        prob   = softmax(output)\n",
    "        loss=calculate_loss(ytemp,prob)\n",
    "        accuracy=accuracy_score(ytemp,prob)\n",
    "        cache =(feat_map_act,feat_map_pool,feat_map2_act,flattened_vec,shape,\n",
    "                fc1_act,prob,myfilter1,myfilter2,W1,W2,conv2_cache,conv1_cache,fc_cache)\n",
    "        \n",
    "        return loss,accuracy,cache\n",
    "\n"
   ]
  },
  {
   "cell_type": "code",
   "execution_count": 16,
   "metadata": {},
   "outputs": [],
   "source": [
    "def backward_propagate(temp,ytemp,cache,pad=0):\n",
    "        ''' input: temp: (H,W,C,m), ytemp: (m,) digit, cache from forprop\n",
    "            output: gradients for backprop'''\n",
    "        (feat_map_act,feat_map_pool,feat_map2_act,flattened_vec,shape,\n",
    "                fc1_act,prob,myfilter1,myfilter2,W1,W2,conv2_cache,conv1_cache,fc_cache)=cache\n",
    "        shape_x,shape_y,shape_z,m=shape\n",
    "        doutput = np.copy(prob)\n",
    "        m = ytemp.shape[0]\n",
    "        for i in np.arange(m):\n",
    "            doutput[i,ytemp[i]] = doutput[i,ytemp[i]]-1\n",
    "        doutput = doutput/m\n",
    "        dW2 = np.dot(fc1_act.T,doutput)\n",
    "        db2 = np.sum(doutput, axis=0, keepdims=True)\n",
    "        dfc1_act = np.dot(doutput,W2.T)\n",
    "        dfc1_bn = relugradient(dfc1_act,fc1_act)\n",
    "        dfc1,dgam,dbet = batchnorm_backward(dfc1_bn, fc_cache)\n",
    "        dW1 = np.dot(flattened_vec,dfc1)\n",
    "        dflattened_vec = np.dot(dfc1,W1.T).T\n",
    "        dfeat_map2_act=dflattened_vec.reshape(shape_x,shape_y,shape_z,m)\n",
    "        dfeat_map2_bn = relugradient(dfeat_map2_act,feat_map2_act)   \n",
    "        dfeat_map2,dconv2gam,dconv2bet = convbatchnorm_backward(dfeat_map2_bn,conv2_cache)\n",
    "        dfilt2,dfeat_map_pooled = conv_backward(dfeat_map2,myfilter2,feat_map_pool,pad=pad)\n",
    "        dfeat_map_act=cnn_maxpool_backward(dfeat_map_pooled,feat_map_act,f=2,stride=2)\n",
    "        dfeat_map_bn = relugradient(dfeat_map_act,feat_map_act)\n",
    "        dfeat_map,dconv1gam,dconv1bet = convbatchnorm_backward(dfeat_map_bn,conv1_cache)\n",
    "        dfilt1,dX = conv_backward(dfeat_map,myfilter1,temp,pad=pad)        \n",
    "        gradients =(dfilt1,dfilt2,dW1,dW2,db2,dconv1gam,dconv2gam,dconv1bet,dconv2bet,dgam,dbet)\n",
    "        return gradients\n"
   ]
  },
  {
   "cell_type": "code",
   "execution_count": 17,
   "metadata": {},
   "outputs": [],
   "source": [
    "def tell_size(temp,ytemp,myfilter1,myfilter2,pad=0):\n",
    "        ''' function to find size of neurons in first fc layer'''\n",
    "        feat_map = cnn_layer_forward(temp,myfilter1,pad=pad)\n",
    "        feat_map_act = relu(feat_map)\n",
    "        feat_map_pool = cnn_averagepool_forward(feat_map_act,f=2,stride=2)\n",
    "        feat_map2= cnn_layer_forward(feat_map_pool,myfilter2,pad=pad)\n",
    "        feat_map2_act=relu(feat_map2)\n",
    "        flattened_vec,shape_x,shape_y,shape_z,m = flatten(feat_map2_act)\n",
    "        return flattened_vec.shape[0]\n"
   ]
  },
  {
   "cell_type": "code",
   "execution_count": 18,
   "metadata": {},
   "outputs": [],
   "source": [
    "def gradient_descent_optimizer(parameters,gradients,alpha):\n",
    "        ''' input: parameters, gradients, alpha: learning_rate\n",
    "        output: updated parameters'''\n",
    "        (myfilter1,myfilter2,W1,W2,b2,conv1gam,conv2gam,conv1bet,conv2bet,gam,bet)=parameters\n",
    "        (dfilt1,dfilt2,dW1,dW2,db2,dconv1gam,dconv2gam,dconv1bet,dconv2bet,dgam,dbet)=gradients\n",
    "        myfilter1 = myfilter1 -alpha*dfilt1\n",
    "        myfilter2 = myfilter2 -alpha*dfilt2\n",
    "        W1 = W1 - alpha * dW1\n",
    "        W2 = W2 - alpha * dW2\n",
    "        b2 = b2 - alpha * db2\n",
    "        conv1gam = conv1gam -alpha * dconv1gam\n",
    "        conv1bet = conv1bet -alpha * dconv1bet\n",
    "        conv2gam = conv2gam -alpha * dconv2gam\n",
    "        conv2bet = conv2bet -alpha * dconv2bet        \n",
    "        gam = gam - alpha * dgam\n",
    "        bet = bet - alpha * dbet\n",
    "        updated_parameters = (myfilter1,myfilter2,W1,W2,b2,conv1gam,conv2gam,conv1bet,conv2bet,gam,bet)\n",
    "        return updated_parameters\n"
   ]
  },
  {
   "cell_type": "code",
   "execution_count": 24,
   "metadata": {},
   "outputs": [],
   "source": [
    "def train_CNN(temp,ytemp,myfilter1,myfilter2,fc1_neurons,num_class,alpha=0.05,iterations=50,pad=0):\n",
    "    ''' input: temp: training data, ytemp: digits,myfilter1,myfilter2:filters,fc1_neurons:num_neurons in fc layer,num_class: number of class\n",
    "        output: Loss and Accuracy list'''  \n",
    "    Loss=[]\n",
    "    Accuracy=[]\n",
    "    alpha=alpha\n",
    "    iterations=iterations\n",
    "    gam=1\n",
    "    bet=0\n",
    "    conv1gam=np.ones(myfilter1.shape[3]).reshape(1,1,myfilter1.shape[3],1)\n",
    "    conv2gam=np.ones(myfilter2.shape[3]).reshape(1,1,myfilter2.shape[3],1)\n",
    "    conv1bet=np.zeros(myfilter1.shape[3]).reshape(1,1,myfilter1.shape[3],1)\n",
    "    conv2bet=np.zeros(myfilter2.shape[3]).reshape(1,1,myfilter2.shape[3],1)\n",
    "    size=tell_size(temp,ytemp,myfilter1,myfilter2,pad=pad)\n",
    "    W1 = np.random.normal(0,1,(size,fc1_neurons))*np.sqrt(2/size)\n",
    "    W2 = np.random.normal(0,1,(fc1_neurons,num_class))*np.sqrt(2/fc1_neurons)\n",
    "    b2 = np.zeros((1,num_class))       \n",
    "    parameters = (myfilter1,myfilter2,W1,W2,b2,conv1gam,conv2gam,conv1bet,conv2bet,gam,bet)\n",
    "    for i in range(iterations):\n",
    "        loss,accuracy,cache_train=forward_propagate(temp,ytemp,parameters,fc1_neurons,num_class,pad=pad)\n",
    "        Loss.append(loss)\n",
    "        Accuracy.append(accuracy)\n",
    "        print(str(i)+\": Loss:\"+str(loss)+\" Accuracy: \"+str(accuracy))\n",
    "        gradients=backward_propagate(temp,ytemp,cache_train,pad=pad)\n",
    "        parameters=gradient_descent_optimizer(parameters,gradients,alpha)\n",
    "    return Loss,Accuracy, parameters"
   ]
  },
  {
   "cell_type": "code",
   "execution_count": 25,
   "metadata": {},
   "outputs": [
    {
     "name": "stdout",
     "output_type": "stream",
     "text": [
      "0: Loss:2.5793182118416036 Accuracy: 0.13\n",
      "1: Loss:1.4036494247815845 Accuracy: 0.56\n",
      "2: Loss:1.039193162529265 Accuracy: 0.772\n",
      "3: Loss:0.871091936306385 Accuracy: 0.825\n",
      "4: Loss:0.752256807764434 Accuracy: 0.854\n",
      "5: Loss:0.6532967958576497 Accuracy: 0.887\n",
      "6: Loss:0.5957505812263014 Accuracy: 0.887\n",
      "7: Loss:0.5413248942995825 Accuracy: 0.899\n",
      "8: Loss:0.5195867963441035 Accuracy: 0.902\n",
      "9: Loss:0.48320549439219707 Accuracy: 0.905\n",
      "10: Loss:0.3928034356053484 Accuracy: 0.936\n",
      "11: Loss:0.3436564445639857 Accuracy: 0.941\n",
      "12: Loss:0.3128217437315367 Accuracy: 0.952\n",
      "13: Loss:0.2977734456207918 Accuracy: 0.952\n",
      "14: Loss:0.25852697746703596 Accuracy: 0.967\n",
      "15: Loss:0.2302877990880721 Accuracy: 0.966\n",
      "16: Loss:0.20194231445402008 Accuracy: 0.977\n",
      "17: Loss:0.1821095204703444 Accuracy: 0.976\n",
      "18: Loss:0.1622351569345543 Accuracy: 0.985\n",
      "19: Loss:0.1476346902773255 Accuracy: 0.988\n"
     ]
    },
    {
     "data": {
      "text/plain": [
       "<matplotlib.axes._subplots.AxesSubplot at 0x7fe4252fb278>"
      ]
     },
     "execution_count": 25,
     "metadata": {},
     "output_type": "execute_result"
    },
    {
     "data": {
      "image/png": "[encoded data removed]",
      "text/plain": [
       "<Figure size 432x288 with 1 Axes>"
      ]
     },
     "metadata": {
      "needs_background": "light"
     },
     "output_type": "display_data"
    }
   ],
   "source": [
    "myfilter1 = np.random.normal(0,0.1,9*16).reshape(3,3,1,16)\n",
    "myfilter2 = np.random.normal(0,0.1,9*16*18).reshape(3,3,16,18)\n",
    "lossbn,accuracybn, parameters =train_CNN(temp,ytemp,myfilter1,myfilter2,fc1_neurons=20,num_class=10,alpha=0.5,iterations=20,pad=1)    \n",
    "pd.Series(lossbn).plot()    \n",
    "pd.Series(accuracybn).plot()\n",
    "#batch norm can support very higher learning rate without divergence"
   ]
  },
  {
   "cell_type": "code",
   "execution_count": 26,
   "metadata": {},
   "outputs": [],
   "source": [
    "loss,accuracy,_ = forward_propagate(temp_test,ytemp_test,parameters,fc1_neurons=20,num_class=10,pad=1)"
   ]
  },
  {
   "cell_type": "code",
   "execution_count": 27,
   "metadata": {},
   "outputs": [
    {
     "data": {
      "text/plain": [
       "(0.3986668663961918, 0.89)"
      ]
     },
     "execution_count": 27,
     "metadata": {},
     "output_type": "execute_result"
    }
   ],
   "source": [
    "loss,accuracy"
   ]
  },
  {
   "cell_type": "code",
   "execution_count": null,
   "metadata": {},
   "outputs": [],
   "source": []
  }
 ],
 "metadata": {
  "kernelspec": {
   "display_name": "Python 3",
   "language": "python",
   "name": "python3"
  },
  "language_info": {
   "codemirror_mode": {
    "name": "ipython",
    "version": 3
   },
   "file_extension": ".py",
   "mimetype": "text/x-python",
   "name": "python",
   "nbconvert_exporter": "python",
   "pygments_lexer": "ipython3",
   "version": "3.7.3"
  }
 },
 "nbformat": 4,
 "nbformat_minor": 2
}
