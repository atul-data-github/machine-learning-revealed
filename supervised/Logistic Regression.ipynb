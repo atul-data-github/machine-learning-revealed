{
 "cells": [
  {
   "cell_type": "code",
   "execution_count": 46,
   "metadata": {},
   "outputs": [],
   "source": [
    "import pandas as pd\n",
    "import numpy as np\n",
    "import matplotlib.pyplot as plt\n",
    "import warnings\n",
    "from scipy import stats\n",
    "import zipfile\n",
    "#filtering reshape warnings deprecation\n",
    "warnings.filterwarnings('ignore')\n"
   ]
  },
  {
   "cell_type": "code",
   "execution_count": 47,
   "metadata": {},
   "outputs": [],
   "source": [
    "with zipfile.ZipFile(\"titanic.zip\") as f:\n",
    "    f.extractall()"
   ]
  },
  {
   "cell_type": "code",
   "execution_count": 48,
   "metadata": {},
   "outputs": [],
   "source": [
    "#importing data and checking different variables and their types\n",
    "data = pd.read_csv('train.csv')\n",
    "test = pd.read_csv('test.csv')\n",
    "data.columns\n",
    "len(data['Ticket'].unique())\n",
    "\n",
    "#Dropping id and not useful varibles\n",
    "data.drop(['PassengerId','Name','Ticket'],axis=1,inplace=True)\n",
    "test.drop(['PassengerId','Name','Ticket'],axis=1,inplace=True)\n",
    "data.describe(include='all')\n",
    "data.isnull().sum()\n",
    "trainy =data['Survived']\n",
    "data = data.drop(['Survived'],axis=1)\n",
    "data['Pclass']= pd.Categorical(data['Pclass'])\n",
    "test['Pclass']= pd.Categorical(test['Pclass'])"
   ]
  },
  {
   "cell_type": "code",
   "execution_count": 49,
   "metadata": {},
   "outputs": [
    {
     "data": {
      "text/plain": [
       "Cabin\n",
       "A10    1\n",
       "A14    1\n",
       "A16    1\n",
       "A19    1\n",
       "A20    1\n",
       "Name: Survived, dtype: int64"
      ]
     },
     "execution_count": 49,
     "metadata": {},
     "output_type": "execute_result"
    }
   ],
   "source": [
    "data.isnull().sum() \n",
    "data[data['Age'].isnull()].index\n",
    "data['Age']=data['Age'].fillna(data['Age'].mean())\n",
    "test['Age']=test['Age'].fillna(data['Age'].mean())\n",
    "trainy.groupby(data['Cabin']).count().head()"
   ]
  },
  {
   "cell_type": "code",
   "execution_count": 50,
   "metadata": {},
   "outputs": [
    {
     "data": {
      "text/plain": [
       "<matplotlib.axes._subplots.AxesSubplot at 0x7f21c318e0f0>"
      ]
     },
     "execution_count": 50,
     "metadata": {},
     "output_type": "execute_result"
    },
    {
     "data": {
      "image/png": "[encoded data removed]",
      "text/plain": [
       "<Figure size 432x288 with 1 Axes>"
      ]
     },
     "metadata": {
      "needs_background": "light"
     },
     "output_type": "display_data"
    }
   ],
   "source": [
    "#Extracting character cabin from string\n",
    "index=pd.Series(data['Cabin'].dropna()).str.slice(0,1).index\n",
    "data['Cabin'][index]=pd.Series(data['Cabin'].dropna()).str.slice(0,1)\n",
    "\n",
    "index=pd.Series(test['Cabin'].dropna()).str.slice(0,1).index\n",
    "test['Cabin'][index]=pd.Series(test['Cabin'].dropna()).str.slice(0,1)\n",
    "\n",
    "#nan behaves differently, more in number, making it a separate class\n",
    "trainy.groupby(data['Cabin'].fillna('dummy')).mean()\n",
    "\n",
    "#Visualization\n",
    "trainy.groupby(data['Sex']).mean().plot(kind='bar',color='green')\n",
    "trainy.groupby(data['Pclass']).mean().plot(kind='bar',color='green')\n",
    "trainy.groupby(data['Embarked']).mean().plot(kind='bar',color='green')\n"
   ]
  },
  {
   "cell_type": "code",
   "execution_count": 51,
   "metadata": {},
   "outputs": [],
   "source": [
    "#Removing sparse categories\n",
    "data['Cabin']=data['Cabin'].replace(['T'],['A'])"
   ]
  },
  {
   "cell_type": "code",
   "execution_count": 52,
   "metadata": {},
   "outputs": [],
   "source": [
    "#converting to one hot encoding of data\n",
    "data =pd.get_dummies(data,dummy_na=False,drop_first=True)\n",
    "test =pd.get_dummies(test,dummy_na=False,drop_first=True)\n"
   ]
  },
  {
   "cell_type": "code",
   "execution_count": 53,
   "metadata": {},
   "outputs": [],
   "source": [
    "#splitting data for train test validation\n",
    "from sklearn.model_selection import train_test_split\n",
    "trainx, testx, trainy, testy = train_test_split(data, trainy, test_size=0.3, random_state=42)\n",
    "\n",
    "#Data columns are at different scale, import to normalize before appling gradient descent optim \n",
    "def normalize_and_stackintercept(trainx,testx):\n",
    "    traindatax=trainx\n",
    "    testdatax=testx\n",
    "    mu= traindatax.mean(axis=0)\n",
    "    sigma= traindatax.std(axis=0)\n",
    "    traindatax= (traindatax-mu)/sigma\n",
    "    traindatax = np.array(traindatax)    \n",
    "    traindatax=np.hstack([np.ones((traindatax.shape[0],1)),traindatax])\n",
    "    testdatax = (testdatax-mu)/sigma\n",
    "    testdatax = np.array(testdatax)    \n",
    "    testdatax=np.hstack([np.ones((testdatax.shape[0],1)),testdatax])    \n",
    "    return traindatax,testdatax"
   ]
  },
  {
   "cell_type": "code",
   "execution_count": 54,
   "metadata": {},
   "outputs": [],
   "source": [
    "#Data columns are at different scale, import to normalize before appling gradient descent optim\n",
    "#stacking 1 for intercept term\n",
    "trainx,testx= normalize_and_stackintercept(trainx,testx)\n",
    "    \n",
    "def sigmoid(x):\n",
    "    prob=1.0/(1+np.exp(-x))\n",
    "    return prob"
   ]
  },
  {
   "cell_type": "code",
   "execution_count": 55,
   "metadata": {},
   "outputs": [],
   "source": [
    "#Running loops for gradient descent optimization\n",
    "    \n",
    "def Gradient_Descent(trainx,trainy,testx,testy,lr=0.05,iters=100):\n",
    "    train_m = trainx.shape[0]\n",
    "    test_m = testx.shape[0]\n",
    "    trainy=trainy.reshape(train_m,1)\n",
    "    testy=testy.reshape(test_m,1)\n",
    "    n = trainx.shape[1]\n",
    "    coeff= np.zeros((n,1))\n",
    "    train_Loss=[]\n",
    "    test_Loss=[]\n",
    "\n",
    "    for iterations in range(iters):\n",
    "        train_prediction= sigmoid(trainx.dot(coeff))\n",
    "        test_prediction= sigmoid(testx.dot(coeff))\n",
    "        train_loss= -np.sum(trainy*np.log(train_prediction)+(1-trainy)*np.log(1-train_prediction))/train_m \n",
    "        test_loss=  -np.sum(testy*np.log(test_prediction)+(1-testy)*np.log(1-test_prediction))/test_m \n",
    "        print(\"iteration \"+str(iterations)+\"train_loss: \"+str(train_loss) +\" test_loss: \"+str(test_loss))\n",
    "        train_Loss.append(train_loss)\n",
    "        test_Loss.append(test_loss) \n",
    "        gradient=(trainx.T).dot(train_prediction-trainy)/train_m\n",
    "        coeff= coeff-lr*(gradient)\n",
    "    Loss_dict=pd.DataFrame({'train_Loss':train_Loss,'test_Loss':test_Loss})   \n",
    "    return coeff,Loss_dict"
   ]
  },
  {
   "cell_type": "code",
   "execution_count": 56,
   "metadata": {},
   "outputs": [
    {
     "name": "stdout",
     "output_type": "stream",
     "text": [
      "iteration 0train_loss: 0.6931471805599454 test_loss: 0.6931471805599453\n",
      "iteration 1train_loss: 0.6856026094181301 test_loss: 0.6855731289907518\n",
      "iteration 2train_loss: 0.678349532635492 test_loss: 0.6783073760581364\n",
      "iteration 3train_loss: 0.6713751698895234 test_loss: 0.6713360930395187\n",
      "iteration 4train_loss: 0.664667203002512 test_loss: 0.6646459470192878\n",
      "iteration 5train_loss: 0.6582137838135371 test_loss: 0.6582241119226983\n",
      "iteration 6train_loss: 0.6520035372280184 test_loss: 0.6520582739474637\n",
      "iteration 7train_loss: 0.6460255601224087 test_loss: 0.6461366321403018\n",
      "iteration 8train_loss: 0.6402694167469588 test_loss: 0.6404478948368094\n",
      "iteration 9train_loss: 0.6347251312233464 test_loss: 0.6349812726391036\n",
      "iteration 10train_loss: 0.6293831776808037 test_loss: 0.6297264685517996\n",
      "iteration 11train_loss: 0.6242344685178158 test_loss: 0.6246736658373772\n",
      "iteration 12train_loss: 0.619270341219347 test_loss: 0.6198135140903277\n",
      "iteration 13train_loss: 0.614482544103986 test_loss: 0.6151371139682668\n",
      "iteration 14train_loss: 0.6098632213228615 test_loss: 0.6106360009594279\n",
      "iteration 15train_loss: 0.6054048973835918 test_loss: 0.6063021285108774\n",
      "iteration 16train_loss: 0.6011004614284347 test_loss: 0.6021278507912545\n",
      "iteration 17train_loss: 0.5969431514563909 test_loss: 0.5981059053162242\n",
      "iteration 18train_loss: 0.5929265386442513 test_loss: 0.5942293956242581\n",
      "iteration 19train_loss: 0.5890445118912688 test_loss: 0.5904917741547233\n",
      "iteration 20train_loss: 0.5852912626860072 test_loss: 0.5868868254493077\n",
      "iteration 21train_loss: 0.5816612703715726 test_loss: 0.583408649771205\n",
      "iteration 22train_loss: 0.578149287866535 test_loss: 0.5800516472138343\n",
      "iteration 23train_loss: 0.5747503278829694 test_loss: 0.5768105023517597\n",
      "iteration 24train_loss: 0.5714596496698504 test_loss: 0.5736801694705014\n",
      "iteration 25train_loss: 0.5682727462991377 test_loss: 0.5706558583987091\n",
      "iteration 26train_loss: 0.5651853325030083 test_loss: 0.5677330209553108\n",
      "iteration 27train_loss: 0.5621933330634994 test_loss: 0.5649073380154509\n",
      "iteration 28train_loss: 0.559292871750089 test_loss: 0.5621747071919736\n",
      "iteration 29train_loss: 0.5564802607962293 test_loss: 0.5595312311236178\n",
      "iteration 30train_loss: 0.5537519909023483 test_loss: 0.5569732063567627\n",
      "iteration 31train_loss: 0.5511047217502014 test_loss: 0.5544971128042507\n",
      "iteration 32train_loss: 0.5485352730115205 test_loss: 0.5520996037623891\n",
      "iteration 33train_loss: 0.5460406158325473 test_loss: 0.549777496465496\n",
      "iteration 34train_loss: 0.5436178647751737 test_loss: 0.5475277631562215\n",
      "iteration 35train_loss: 0.5412642701949018 test_loss: 0.5453475226492013\n",
      "iteration 36train_loss: 0.5389772110356645 test_loss: 0.5432340323653071\n",
      "iteration 37train_loss: 0.5367541880216035 test_loss: 0.5411846808137848\n",
      "iteration 38train_loss: 0.5345928172261559 test_loss: 0.539196980499813\n",
      "iteration 39train_loss: 0.5324908239992079 test_loss: 0.5372685612354589\n",
      "iteration 40train_loss: 0.5304460372335889 test_loss: 0.5353971638325908\n",
      "iteration 41train_loss: 0.5284563839527849 test_loss: 0.5335806341569888\n",
      "iteration 42train_loss: 0.5265198842024084 test_loss: 0.5318169175236483\n",
      "iteration 43train_loss: 0.5246346462286614 test_loss: 0.530104053414096\n",
      "iteration 44train_loss: 0.5227988619277611 test_loss: 0.5284401704973529\n",
      "iteration 45train_loss: 0.5210108025510208 test_loss: 0.5268234819370564\n",
      "iteration 46train_loss: 0.5192688146510271 test_loss: 0.5252522809680952\n",
      "iteration 47train_loss: 0.5175713162550775 test_loss: 0.5237249367269581\n",
      "iteration 48train_loss: 0.5159167932527559 test_loss: 0.5222398903208401\n",
      "iteration 49train_loss: 0.5143037959852289 test_loss: 0.5207956511213491\n",
      "iteration 50train_loss: 0.5127309360245147 test_loss: 0.5193907932694485\n",
      "iteration 51train_loss: 0.5111968831316291 test_loss: 0.5180239523790261\n",
      "iteration 52train_loss: 0.5097003623831431 test_loss: 0.5166938224272052\n",
      "iteration 53train_loss: 0.5082401514562783 test_loss: 0.5153991528202096\n",
      "iteration 54train_loss: 0.5068150780632469 test_loss: 0.5141387456242548\n",
      "iteration 55train_loss: 0.5054240175260731 test_loss: 0.5129114529515653\n",
      "iteration 56train_loss: 0.5040658904836658 test_loss: 0.5117161744922167\n",
      "iteration 57train_loss: 0.5027396607233842 test_loss: 0.5105518551830668\n",
      "iteration 58train_loss: 0.5014443331298162 test_loss: 0.5094174830055659\n",
      "iteration 59train_loss: 0.5001789517439136 test_loss: 0.5083120869047512\n",
      "iteration 60train_loss: 0.4989425979260515 test_loss: 0.507234734822194\n",
      "iteration 61train_loss: 0.49773438861695907 test_loss: 0.5061845318361209\n",
      "iteration 62train_loss: 0.4965534746908438 test_loss: 0.5051606184023479\n",
      "iteration 63train_loss: 0.4953990393953673 test_loss: 0.5041621686900607\n",
      "iteration 64train_loss: 0.49427029687346286 test_loss: 0.5031883890068454\n",
      "iteration 65train_loss: 0.49316649076228336 test_loss: 0.5022385163077211\n",
      "iteration 66train_loss: 0.49208689286485807 test_loss: 0.5013118167832515\n",
      "iteration 67train_loss: 0.4910308018903031 test_loss: 0.500407584522118\n",
      "iteration 68train_loss: 0.4899975422586852 test_loss: 0.4995251402438245\n",
      "iteration 69train_loss: 0.48898646296687004 test_loss: 0.49866383009747134\n",
      "iteration 70train_loss: 0.4879969365119162 test_loss: 0.4978230245227858\n",
      "iteration 71train_loss: 0.4870283578687746 test_loss: 0.4970021171698352\n",
      "iteration 72train_loss: 0.4860801435192545 test_loss: 0.49620052387406566\n",
      "iteration 73train_loss: 0.48515173052940136 test_loss: 0.49541768168351713\n",
      "iteration 74train_loss: 0.48424257567259554 test_loss: 0.4946530479352597\n",
      "iteration 75train_loss: 0.4833521545958504 test_loss: 0.4939060993782741\n",
      "iteration 76train_loss: 0.4824799610269346 test_loss: 0.4931763313401706\n",
      "iteration 77train_loss: 0.48162550602008386 test_loss: 0.4924632569352985\n",
      "iteration 78train_loss: 0.480788317238203 test_loss: 0.4917664063119461\n",
      "iteration 79train_loss: 0.47996793826958223 test_loss: 0.4910853259364702\n",
      "iteration 80train_loss: 0.47916392797726487 test_loss: 0.49041957791232355\n",
      "iteration 81train_loss: 0.47837585987931824 test_loss: 0.4897687393320731\n",
      "iteration 82train_loss: 0.47760332155835844 test_loss: 0.4891324016606091\n",
      "iteration 83train_loss: 0.47684591409877525 test_loss: 0.488510170147862\n",
      "iteration 84train_loss: 0.4761032515501969 test_loss: 0.4879016632694332\n",
      "iteration 85train_loss: 0.4753749604158142 test_loss: 0.4873065121936474\n",
      "iteration 86train_loss: 0.4746606791642674 test_loss: 0.4867243602736192\n",
      "iteration 87train_loss: 0.47396005776387085 test_loss: 0.48615486256300744\n",
      "iteration 88train_loss: 0.47327275723802015 test_loss: 0.4855976853542092\n",
      "iteration 89train_loss: 0.47259844924069405 test_loss: 0.4850525057378207\n",
      "iteration 90train_loss: 0.4719368156510241 test_loss: 0.4845190111822521\n",
      "iteration 91train_loss: 0.47128754818596064 test_loss: 0.48399689913245725\n",
      "iteration 92train_loss: 0.47065034803012223 test_loss: 0.4834858766267891\n",
      "iteration 93train_loss: 0.4700249254819637 test_loss: 0.4829856599310562\n",
      "iteration 94train_loss: 0.46941099961544536 test_loss: 0.4824959741888996\n",
      "iteration 95train_loss: 0.4688082979564347 test_loss: 0.482016553087668\n",
      "iteration 96train_loss: 0.46821655617311025 test_loss: 0.4815471385390073\n",
      "iteration 97train_loss: 0.4676355177796793 test_loss: 0.4810874803734293\n",
      "iteration 98train_loss: 0.4670649338527587 test_loss: 0.480637336048163\n",
      "iteration 99train_loss: 0.46650456275980257 test_loss: 0.48019647036763025\n"
     ]
    },
    {
     "data": {
      "image/png": "[encoded data removed]",
      "text/plain": [
       "<Figure size 432x288 with 1 Axes>"
      ]
     },
     "metadata": {
      "needs_background": "light"
     },
     "output_type": "display_data"
    }
   ],
   "source": [
    "coeff,loss_dict = Gradient_Descent(trainx,trainy.values,testx,testy.values,lr=0.05,iters=100)\n",
    "loss_dict.plot()\n",
    "\n",
    "\n",
    "#setting cutoff for class prediction from probability values\n",
    "cutoff=np.mean(trainy)\n"
   ]
  },
  {
   "cell_type": "code",
   "execution_count": 57,
   "metadata": {},
   "outputs": [],
   "source": [
    "def predict_proba(data,coeff):\n",
    "    return sigmoid(data.dot(coeff))\n",
    "\n",
    "def predict(data,coeff,cutoff):\n",
    "    return (sigmoid(data.dot(coeff))>cutoff)*1.0\n",
    "    "
   ]
  },
  {
   "cell_type": "code",
   "execution_count": 58,
   "metadata": {},
   "outputs": [],
   "source": [
    "train_prediction= predict(trainx,coeff,cutoff)\n",
    "test_prediction=  predict(testx,coeff,cutoff)\n",
    "\n",
    "def accuracy(datay,prediction):\n",
    "    m= datay.shape[0]\n",
    "    return np.mean(datay.reshape(m,)==prediction.reshape(m,))"
   ]
  },
  {
   "cell_type": "code",
   "execution_count": 59,
   "metadata": {},
   "outputs": [],
   "source": [
    "train_accuracy= accuracy(trainy.values,train_prediction)\n",
    "test_accuracy= accuracy(testy.values,test_prediction)\n",
    "\n",
    "def confusion_matrix(datay,prediction):\n",
    "    m=datay.shape[0]\n",
    "    confmat=pd.crosstab(datay.reshape(m,),prediction.reshape(m,))\n",
    "    return confmat"
   ]
  },
  {
   "cell_type": "code",
   "execution_count": 60,
   "metadata": {},
   "outputs": [
    {
     "data": {
      "text/html": [
       "<div>\n",
       "<style scoped>\n",
       "    .dataframe tbody tr th:only-of-type {\n",
       "        vertical-align: middle;\n",
       "    }\n",
       "\n",
       "    .dataframe tbody tr th {\n",
       "        vertical-align: top;\n",
       "    }\n",
       "\n",
       "    .dataframe thead th {\n",
       "        text-align: right;\n",
       "    }\n",
       "</style>\n",
       "<table border=\"1\" class=\"dataframe\">\n",
       "  <thead>\n",
       "    <tr style=\"text-align: right;\">\n",
       "      <th>col_0</th>\n",
       "      <th>0.0</th>\n",
       "      <th>1.0</th>\n",
       "    </tr>\n",
       "    <tr>\n",
       "      <th>row_0</th>\n",
       "      <th></th>\n",
       "      <th></th>\n",
       "    </tr>\n",
       "  </thead>\n",
       "  <tbody>\n",
       "    <tr>\n",
       "      <th>0</th>\n",
       "      <td>115</td>\n",
       "      <td>42</td>\n",
       "    </tr>\n",
       "    <tr>\n",
       "      <th>1</th>\n",
       "      <td>22</td>\n",
       "      <td>89</td>\n",
       "    </tr>\n",
       "  </tbody>\n",
       "</table>\n",
       "</div>"
      ],
      "text/plain": [
       "col_0  0.0  1.0\n",
       "row_0          \n",
       "0      115   42\n",
       "1       22   89"
      ]
     },
     "execution_count": 60,
     "metadata": {},
     "output_type": "execute_result"
    }
   ],
   "source": [
    "confmat=confusion_matrix(testy.values,test_prediction)\n",
    "confmat\n",
    "#Finding specificty and sensitivity of model at specified cutoff"
   ]
  },
  {
   "cell_type": "code",
   "execution_count": 61,
   "metadata": {},
   "outputs": [],
   "source": [
    "def metric(confmat):\n",
    "    confmat=confmat.values\n",
    "    specificity=confmat[0,0]/np.sum(confmat[0,:])\n",
    "    sensitivity=confmat[1,1]/np.sum(confmat[1,:])\n",
    "    return sensitivity,specificity\n",
    "\n",
    "sens,spec=metric(confmat)"
   ]
  },
  {
   "cell_type": "code",
   "execution_count": 62,
   "metadata": {},
   "outputs": [],
   "source": [
    "#Plotting Roc curves and attempting to find auc value\n",
    "\n",
    "def plot_roccurve(data,datay,coeff,num_points=1000):\n",
    "    Sensitivity=[]\n",
    "    Specificity=[]\n",
    "    p = np.linspace(0.15,0.9,num_points)\n",
    "    for index in np.arange(len(p)):\n",
    "        data_prediction=predict(data,coeff,p[index])\n",
    "        confmat= confusion_matrix(datay,data_prediction)\n",
    "        sens,spec=metric(confmat)\n",
    "        Sensitivity.append(sens)\n",
    "        Specificity.append(spec)\n",
    "    #ROC Curves\n",
    "    plt.scatter(1-np.array(Specificity),np.array(Sensitivity))\n",
    "    x= np.linspace(0,1,50)\n",
    "    plt.plot(x,x, linestyle='solid',color='red')\n",
    "    plt.xlabel('1-Specificity') \n",
    "    plt.ylabel('Sensitivity') \n",
    "    plt.title('ROC_CURVE')      \n",
    "    return np.array(Specificity),np.array(Sensitivity)"
   ]
  },
  {
   "cell_type": "code",
   "execution_count": 63,
   "metadata": {},
   "outputs": [
    {
     "data": {
      "image/png": "[encoded data removed]",
      "text/plain": [
       "<Figure size 432x288 with 1 Axes>"
      ]
     },
     "metadata": {
      "needs_background": "light"
     },
     "output_type": "display_data"
    }
   ],
   "source": [
    "Sens,Spec= plot_roccurve(testx,testy.values,coeff,num_points=1000)"
   ]
  },
  {
   "cell_type": "code",
   "execution_count": 64,
   "metadata": {},
   "outputs": [],
   "source": [
    "#Newton's method yields same solution in 5 iterations \n",
    "LossNewton=[]\n",
    "def NewtonOptim(trainx,trainy,iters=10):\n",
    "    n = trainx.shape[1]\n",
    "    coeff= np.zeros((n,1))\n",
    "    m=trainx.shape[0]\n",
    "    trainy=trainy.reshape(m,1)\n",
    "    for iterations in range(10):\n",
    "        prediction= sigmoid(trainx.dot(coeff))\n",
    "        loss= -np.sum(trainy*np.log(prediction)+(1-trainy)*np.log(1-prediction))/m\n",
    "        vartrainy = prediction*(1-prediction).reshape(m,1)\n",
    "        vartrainy = np.eye(m)*vartrainy\n",
    "        hess = -(trainx.T).dot(vartrainy.dot(trainx))\n",
    "        coeff = coeff-np.linalg.inv(hess).dot((trainx.T).dot(trainy-prediction))\n",
    "        LossNewton.append(loss)\n",
    "        print(loss)\n",
    "    return coeff,LossNewton,hess"
   ]
  },
  {
   "cell_type": "code",
   "execution_count": 65,
   "metadata": {},
   "outputs": [
    {
     "name": "stdout",
     "output_type": "stream",
     "text": [
      "0.6931471805599454\n",
      "0.44631037910018445\n",
      "0.4279026153391865\n",
      "0.42688057342834207\n",
      "0.4268742767717537\n",
      "0.42687427615113305\n",
      "0.42687427615113305\n",
      "0.42687427615113305\n",
      "0.42687427615113305\n",
      "0.42687427615113305\n"
     ]
    }
   ],
   "source": [
    "NewCoeff,NewtonLoss,hess=NewtonOptim(trainx,trainy.values,iters=10)  "
   ]
  },
  {
   "cell_type": "code",
   "execution_count": 66,
   "metadata": {},
   "outputs": [],
   "source": [
    "def compute_pvalue(trainx,coeff,hess):\n",
    "    m=trainx.shape[0]\n",
    "    n=trainx.shape[1]\n",
    "    tstatistic= coeff/np.sqrt(np.diag(np.linalg.inv(-hess))).reshape(n,1)\n",
    "    df=m-n\n",
    "    pvalue = [2*(1-stats.t.cdf(tstat,df)) if tstat>0 else 2*stats.t.cdf(tstat,df) for tstat in tstatistic]\n",
    "    return pvalue"
   ]
  },
  {
   "cell_type": "code",
   "execution_count": 67,
   "metadata": {},
   "outputs": [
    {
     "data": {
      "text/plain": [
       "1      True\n",
       "2      True\n",
       "3     False\n",
       "4     False\n",
       "5     False\n",
       "6     False\n",
       "7      True\n",
       "8      True\n",
       "9     False\n",
       "10     True\n",
       "11     True\n",
       "12    False\n",
       "13    False\n",
       "14    False\n",
       "15     True\n",
       "dtype: bool"
      ]
     },
     "execution_count": 67,
     "metadata": {},
     "output_type": "execute_result"
    }
   ],
   "source": [
    "pvalue=compute_pvalue(trainx,NewCoeff,hess)\n",
    "\n",
    "#important features\n",
    "(pd.Series(pvalue) < 0.05)[1:]"
   ]
  },
  {
   "cell_type": "code",
   "execution_count": 68,
   "metadata": {},
   "outputs": [
    {
     "name": "stdout",
     "output_type": "stream",
     "text": [
      "Index(['Age', 'SibSp', 'Sex_male', 'Cabin_B', 'Cabin_D', 'Cabin_E',\n",
      "       'Embarked_S'],\n",
      "      dtype='object')\n"
     ]
    }
   ],
   "source": [
    "important_features=data.columns[(pd.Series(pvalue) < 0.05)[1:]]\n",
    "print(important_features)"
   ]
  }
 ],
 "metadata": {
  "kernelspec": {
   "display_name": "Python 3",
   "language": "python",
   "name": "python3"
  },
  "language_info": {
   "codemirror_mode": {
    "name": "ipython",
    "version": 3
   },
   "file_extension": ".py",
   "mimetype": "text/x-python",
   "name": "python",
   "nbconvert_exporter": "python",
   "pygments_lexer": "ipython3",
   "version": "3.7.3"
  }
 },
 "nbformat": 4,
 "nbformat_minor": 2
}
