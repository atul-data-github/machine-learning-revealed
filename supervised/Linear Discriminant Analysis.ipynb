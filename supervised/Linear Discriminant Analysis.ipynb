{
 "cells": [
  {
   "cell_type": "code",
   "execution_count": 1,
   "metadata": {},
   "outputs": [],
   "source": [
    "from __future__ import print_function, division\n",
    "import numpy as np\n",
    "from utils import calculate_covariance_matrix, normalize, standardize\n",
    "\n",
    "class LDA():\n",
    "    \"\"\"The Linear Discriminant Analysis classifier, also known as Fisher's linear discriminant.\n",
    "    Can besides from classification also be used to reduce the dimensionaly of the dataset.\n",
    "    \"\"\"\n",
    "    def __init__(self):\n",
    "        self.w = None\n",
    "\n",
    "    def transform(self, X, y):\n",
    "        self.fit(X, y)\n",
    "        # Project data onto vector\n",
    "        X_transform = X.dot(self.w)\n",
    "        return X_transform\n",
    "\n",
    "    def fit(self, X, y):\n",
    "        # Separate data by class\n",
    "        X1 = X[y == 0]\n",
    "        X2 = X[y == 1]\n",
    "\n",
    "        # Calculate the covariance matrices of the two datasets\n",
    "        cov1 = calculate_covariance_matrix(X1)\n",
    "        cov2 = calculate_covariance_matrix(X2)\n",
    "        cov_tot = cov1 + cov2\n",
    "\n",
    "        # Calculate the mean of the two datasets\n",
    "        mean1 = X1.mean(0)\n",
    "        mean2 = X2.mean(0)\n",
    "        mean_diff = np.atleast_1d(mean1 - mean2)\n",
    "\n",
    "        # Determine the vector which when X is projected onto it best separates the\n",
    "        # data by class. w = (mean1 - mean2) / (cov1 + cov2)\n",
    "        self.w = np.linalg.pinv(cov_tot).dot(mean_diff)\n",
    "\n",
    "    def predict(self, X):\n",
    "        y_pred = []\n",
    "        for sample in X:\n",
    "            h = sample.dot(self.w)\n",
    "            y = 1 * (h < 0)\n",
    "            y_pred.append(y)\n",
    "        return y_pred\n"
   ]
  },
  {
   "cell_type": "code",
   "execution_count": 4,
   "metadata": {},
   "outputs": [
    {
     "name": "stdout",
     "output_type": "stream",
     "text": [
      "Accuracy: 1.0\n"
     ]
    },
    {
     "data": {
      "image/png": "[encoded data removed]",
      "text/plain": [
       "<Figure size 432x288 with 1 Axes>"
      ]
     },
     "metadata": {
      "needs_background": "light"
     },
     "output_type": "display_data"
    }
   ],
   "source": [
    "from __future__ import print_function\n",
    "from sklearn import datasets\n",
    "import matplotlib.pyplot as plt\n",
    "import numpy as np\n",
    "\n",
    "from utils import calculate_covariance_matrix, accuracy_score\n",
    "from utils import normalize, standardize, train_test_split, Plot\n",
    "\n",
    "def main():\n",
    "    # Load the dataset\n",
    "    data = datasets.load_iris()\n",
    "    X = data.data\n",
    "    y = data.target\n",
    "\n",
    "    # Three -> two classes\n",
    "    X = X[y != 2]\n",
    "    y = y[y != 2]\n",
    "\n",
    "    X_train, X_test, y_train, y_test = train_test_split(X, y, test_size=0.33)\n",
    "\n",
    "    # Fit and predict using LDA\n",
    "    lda = LDA()\n",
    "    lda.fit(X_train, y_train)\n",
    "    y_pred = lda.predict(X_test)\n",
    "\n",
    "    accuracy = accuracy_score(y_test, y_pred)\n",
    "\n",
    "    print (\"Accuracy:\", accuracy)\n",
    "\n",
    "    Plot().plot_in_2d(X_test, y_pred, title=\"LDA\", accuracy=accuracy)\n",
    "\n",
    "if __name__ == \"__main__\":\n",
    "    main()\n"
   ]
  },
  {
   "cell_type": "code",
   "execution_count": null,
   "metadata": {},
   "outputs": [],
   "source": []
  }
 ],
 "metadata": {
  "kernelspec": {
   "display_name": "Python 3",
   "language": "python",
   "name": "python3"
  },
  "language_info": {
   "codemirror_mode": {
    "name": "ipython",
    "version": 3
   },
   "file_extension": ".py",
   "mimetype": "text/x-python",
   "name": "python",
   "nbconvert_exporter": "python",
   "pygments_lexer": "ipython3",
   "version": "3.7.3"
  }
 },
 "nbformat": 4,
 "nbformat_minor": 2
}
