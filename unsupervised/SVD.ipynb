{
 "cells": [
  {
   "cell_type": "code",
   "execution_count": 1,
   "metadata": {},
   "outputs": [],
   "source": [
    "# -*- coding: utf-8 -*-\n",
    "\"\"\"\n",
    "Created on Thu Jul 20 15:18:35 2017\n",
    "\n",
    "@author: ATUL KUMAR\n",
    "\"\"\"\n",
    "\n",
    "import numpy as np\n",
    "\n",
    "def gs_m(A):\n",
    "\n",
    "    m,n= A.shape\n",
    "    A= A.copy()\n",
    "    Q= np.zeros((m,n))\n",
    "    R= np.zeros((n,n))\n",
    "\n",
    "    for k in range(n):\n",
    "\n",
    "        R[k,k]= np.linalg.norm(A[:,k:k+1].reshape(-1),2)\n",
    "        Q[:,k:k+1]= A[:,k:k+1]/R[k,k]\n",
    "        R[k:k+1,k+1:n+1]= np.dot( Q[:,k:k+1].T, A[:,k+1:n+1] )\n",
    "        A[:,k+1:n+1]= A[:, k+1:n+1] - np.dot( Q[:,k:k+1], R[k:k+1,k+1:n+1])\n",
    "    return Q, R"
   ]
  },
  {
   "cell_type": "code",
   "execution_count": 32,
   "metadata": {},
   "outputs": [],
   "source": [
    "def svd(mat,tol=0.0001):\n",
    "    xsizef=mat.shape[0]\n",
    "    ysizef=mat.shape[1]\n",
    "    if(ysizef>xsizef):\n",
    "        mat=mat.T\n",
    "        xsize=mat.shape[0]\n",
    "        ysize=mat.shape[1]\n",
    "    else:\n",
    "        xsize=mat.shape[0]\n",
    "        ysize=mat.shape[1]\n",
    "\n",
    "    a=np.matmul(mat.T,mat)\n",
    "    tol2=10\n",
    "    eigvec=np.diag([1]*np.shape(a)[1])\n",
    "    while(tol2>tol):\n",
    "        q,r=gs_m(a)\n",
    "        #q,r=np.linalg.qr(a)  #alternative\n",
    "        eigvec=np.matmul(eigvec,q)\n",
    "        a1=np.matmul(r,q)\n",
    "        tol2=np.sum(np.sum(np.abs(a1-a)))\n",
    "        q1=q\n",
    "        a=a1\n",
    "    u=np.zeros((xsize,xsize))\n",
    "    s=np.zeros((xsize,ysize))\n",
    "    ab=np.diag(np.diag(np.sqrt(np.abs(a))))\n",
    "    s[0:ysize,0:ysize]=ab    \n",
    "    temp=np.matmul(mat,eigvec)/np.diag(np.sqrt(np.abs(a)))\n",
    "    v=eigvec\n",
    "    u[:,0:ysize]=temp\n",
    "    if(ysizef>xsizef):\n",
    "        v=u\n",
    "        s=s.T\n",
    "        u=eigvec\n",
    "    else:\n",
    "        pass    \n",
    "    return u,s,v"
   ]
  },
  {
   "cell_type": "code",
   "execution_count": 33,
   "metadata": {},
   "outputs": [],
   "source": [
    "b=np.random.normal(10,10,(60,5000))\n",
    "u,s,v=svd(b)\n",
    "encoded=np.dot(b,v[:,:40])\n",
    "reconstructed=np.dot(np.dot(b,v[:,:60]),v[:,:60].T)"
   ]
  },
  {
   "cell_type": "code",
   "execution_count": 34,
   "metadata": {},
   "outputs": [
    {
     "data": {
      "text/plain": [
       "((60, 40), (60, 5000))"
      ]
     },
     "execution_count": 34,
     "metadata": {},
     "output_type": "execute_result"
    }
   ],
   "source": [
    "encoded.shape, reconstructed.shape"
   ]
  },
  {
   "cell_type": "code",
   "execution_count": 35,
   "metadata": {},
   "outputs": [],
   "source": [
    "U,S,V = np.linalg.svd(b)"
   ]
  },
  {
   "cell_type": "code",
   "execution_count": 36,
   "metadata": {},
   "outputs": [
    {
     "data": {
      "text/plain": [
       "(True, True)"
      ]
     },
     "execution_count": 36,
     "metadata": {},
     "output_type": "execute_result"
    }
   ],
   "source": [
    "np.allclose(u,U,rtol=1,atol=1),np.allclose(v,V,rtol=1,atol=1)"
   ]
  },
  {
   "cell_type": "code",
   "execution_count": null,
   "metadata": {},
   "outputs": [],
   "source": []
  }
 ],
 "metadata": {
  "kernelspec": {
   "display_name": "Python 3",
   "language": "python",
   "name": "python3"
  },
  "language_info": {
   "codemirror_mode": {
    "name": "ipython",
    "version": 3
   },
   "file_extension": ".py",
   "mimetype": "text/x-python",
   "name": "python",
   "nbconvert_exporter": "python",
   "pygments_lexer": "ipython3",
   "version": "3.7.3"
  }
 },
 "nbformat": 4,
 "nbformat_minor": 2
}
