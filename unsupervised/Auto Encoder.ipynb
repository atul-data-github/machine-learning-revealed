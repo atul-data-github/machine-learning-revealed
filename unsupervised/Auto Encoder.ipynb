{
 "cells": [
  {
   "cell_type": "code",
   "execution_count": 20,
   "metadata": {},
   "outputs": [],
   "source": [
    "# -*- coding: utf-8 -*-\n",
    "from keras.layers import Input, Dense\n",
    "from keras.models import Model\n",
    "import numpy as np\n",
    "\n",
    "\"\"\"\n",
    "Created on Mon Jun  5 17:52:17 2017\n",
    "\n",
    "@author: ATUL KUMAR\n",
    "\"\"\"\n",
    "def buildAndTrainModel(x_train,epochs=10,batch_size=20):\n",
    "    '''An autoencoder model to used for dimensionality reduction\n",
    "       for our random forest in view to reduce the memory of rf model\n",
    "       \n",
    "       input:\n",
    "           x_train: numpy array of data to be encoded(nsamples,nfeatures)\n",
    "           epochs:  epochs to be used for autoencoding x_train\n",
    "           batch_size: batch_size to be used in training process\n",
    "       output:\n",
    "           encodeddata:reduced dimensional data'''\n",
    "           \n",
    "    inputFeatures = Input(shape=(x_train.shape[1],))\n",
    "    encoded1 = Dense(int(x_train.shape[1]/2), activation='relu')(inputFeatures)\n",
    "    encoded2 = Dense(int(x_train.shape[1]/4), activation='relu')(encoded1)\n",
    "    decoded1 = Dense(int(x_train.shape[1]/2), activation='relu')(encoded2)\n",
    "    decoded2 = Dense(int(x_train.shape[1]), activation='tanh')(decoded1)            \n",
    "    autoencoder = Model(inputs=inputFeatures, outputs=decoded2)\n",
    "    \n",
    "    autoencoder.compile(optimizer='adadelta', loss='mse')\n",
    "    autoencoder.fit(x_train, x_train,\n",
    "                epochs=epochs,\n",
    "                batch_size=batch_size,\n",
    "                shuffle=True)\n",
    "    \n",
    "    intermediate_layer_model = Model(inputs=autoencoder.input,\n",
    "                                outputs=encoded2)\n",
    "    intermediate_layer_model.compile(optimizer='adadelta', loss='mse')\n",
    "    encodeddata=intermediate_layer_model.predict(x_train)\n",
    "    return encodeddata, autoencoder"
   ]
  },
  {
   "cell_type": "code",
   "execution_count": 21,
   "metadata": {},
   "outputs": [],
   "source": [
    "x_train = np.random.normal(0,1,(100,10))"
   ]
  },
  {
   "cell_type": "code",
   "execution_count": 22,
   "metadata": {},
   "outputs": [
    {
     "name": "stdout",
     "output_type": "stream",
     "text": [
      "Epoch 1/10\n",
      "5/5 [==============================] - 0s 2ms/step - loss: 0.9584\n",
      "Epoch 2/10\n",
      "5/5 [==============================] - 0s 4ms/step - loss: 0.9877\n",
      "Epoch 3/10\n",
      "5/5 [==============================] - 0s 3ms/step - loss: 0.9417\n",
      "Epoch 4/10\n",
      "5/5 [==============================] - 0s 3ms/step - loss: 0.9713\n",
      "Epoch 5/10\n",
      "5/5 [==============================] - 0s 3ms/step - loss: 0.9477\n",
      "Epoch 6/10\n",
      "5/5 [==============================] - 0s 3ms/step - loss: 0.9671\n",
      "Epoch 7/10\n",
      "5/5 [==============================] - 0s 3ms/step - loss: 0.9719\n",
      "Epoch 8/10\n",
      "5/5 [==============================] - 0s 3ms/step - loss: 0.9855\n",
      "Epoch 9/10\n",
      "5/5 [==============================] - 0s 4ms/step - loss: 0.9129\n",
      "Epoch 10/10\n",
      "5/5 [==============================] - 0s 3ms/step - loss: 0.9578\n"
     ]
    }
   ],
   "source": [
    "encoded_data, ae_model = buildAndTrainModel(x_train,epochs=10,batch_size=20)"
   ]
  },
  {
   "cell_type": "code",
   "execution_count": 23,
   "metadata": {},
   "outputs": [
    {
     "data": {
      "text/plain": [
       "(100, 2)"
      ]
     },
     "execution_count": 23,
     "metadata": {},
     "output_type": "execute_result"
    }
   ],
   "source": [
    "encoded_data.shape"
   ]
  },
  {
   "cell_type": "code",
   "execution_count": 25,
   "metadata": {},
   "outputs": [],
   "source": [
    "reconstructed_data = ae_model.predict(x_train)"
   ]
  },
  {
   "cell_type": "code",
   "execution_count": 26,
   "metadata": {},
   "outputs": [
    {
     "data": {
      "text/plain": [
       "(100, 10)"
      ]
     },
     "execution_count": 26,
     "metadata": {},
     "output_type": "execute_result"
    }
   ],
   "source": [
    "reconstructed_data.shape"
   ]
  },
  {
   "cell_type": "code",
   "execution_count": null,
   "metadata": {},
   "outputs": [],
   "source": []
  }
 ],
 "metadata": {
  "kernelspec": {
   "display_name": "Python 3",
   "language": "python",
   "name": "python3"
  },
  "language_info": {
   "codemirror_mode": {
    "name": "ipython",
    "version": 3
   },
   "file_extension": ".py",
   "mimetype": "text/x-python",
   "name": "python",
   "nbconvert_exporter": "python",
   "pygments_lexer": "ipython3",
   "version": "3.7.3"
  }
 },
 "nbformat": 4,
 "nbformat_minor": 2
}
